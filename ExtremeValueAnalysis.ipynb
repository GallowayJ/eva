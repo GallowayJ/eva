{
 "cells": [
  {
   "cell_type": "markdown",
   "id": "4a98755f-4fb9-4a34-8b4f-1d3a188b8078",
   "metadata": {},
   "source": [
    "Table of contents\n",
    "* [Introduction](#Introduction)\n",
    "* [Getting Data](#Getting-Data)\n",
    "* [Data munging](#Data-munging)\n",
    "* [Importing spatial data](#Importing-spatial-data)\n",
    "* [Statisical analysis](#Statistical-analysis)"
   ]
  },
  {
   "cell_type": "markdown",
   "id": "3be27e8d-d281-48c9-9516-b0b28e4d2975",
   "metadata": {},
   "source": [
    "# Introduction\n",
    "\n",
    "This noteboook provides an example of using real world data to produce a risk-based classification of potential damage from rainfall in the UK.\n",
    "\n",
    "Steps:\n",
    "- Scrape rainfall data and house price dataset\n",
    "- Get a corresponding spatial dataset\n",
    "- Use a Bayesian approach to fit the Extreme Value distribution to the rainfall dataset\n",
    "- Use results of the statistical analysis in combination with average house prices to provide a risk-based categorisation of each spatial unit\n",
    "- Visualise results on a choropleth map"
   ]
  },
  {
   "cell_type": "markdown",
   "id": "da9ae177-a365-46b9-a8fd-7879db04778c",
   "metadata": {},
   "source": [
    "# Getting Data\n",
    "\n",
    "This notebook will make use of the Python library BeautifulSoup4 for web scraping. Historical met station data is available from the [Met Office](https://www.metoffice.gov.uk/research/climate/maps-and-data/historic-station-data). "
   ]
  },
  {
   "cell_type": "code",
   "execution_count": 1,
   "id": "40634855-73df-4eec-97bc-ec3ac2727dae",
   "metadata": {},
   "outputs": [],
   "source": [
    "from io import StringIO # for parsing text\n",
    "import re\n",
    "import time # to sleep between requests\n",
    "\n",
    "from bs4 import BeautifulSoup\n",
    "import pandas as pd\n",
    "import requests # to handle html requests"
   ]
  },
  {
   "cell_type": "code",
   "execution_count": 2,
   "id": "d0a900d0-7038-47ec-9181-4600f9ab8d4a",
   "metadata": {},
   "outputs": [],
   "source": [
    "# scrape historical weather data from met office\n",
    "# https://www.metoffice.gov.uk/research/climate/maps-and-data/historic-station-data\n",
    "base_url = 'https://www.metoffice.gov.uk/research/climate/maps-and-data/historic-station-data'\n",
    "page = requests.get(base_url)\n",
    "soup = BeautifulSoup(page.content)\n",
    "station_links = soup.select(\"option\")[1:] # skip first element (not a station)"
   ]
  },
  {
   "cell_type": "code",
   "execution_count": 3,
   "id": "5f1087a9-1d27-46b5-8ba1-343ab940d8c7",
   "metadata": {},
   "outputs": [],
   "source": [
    "# Create dictionary where keys are station names and values are a list of length\n",
    "# 1 containing the link to station historical data. A list is used because, the\n",
    "# station data itself will be added.\n",
    "station_dict = {}\n",
    "for each_tag in station_links:\n",
    "    \n",
    "    station_name = each_tag.text\n",
    "    station_link = each_tag.attrs['value']\n",
    "\n",
    "    station_dict.update({station_name: [station_link]})"
   ]
  },
  {
   "cell_type": "code",
   "execution_count": 4,
   "id": "c60dbfdb-cd00-4b30-b3be-0cc290a52d42",
   "metadata": {},
   "outputs": [],
   "source": [
    "# get station data, parse into pandas dataframe and retrieve station metadata\n",
    "for key, val in station_dict.items():\n",
    "    # send get request\n",
    "    r = requests.get(val[0])\n",
    "    # print(r.status_code) # uncomment for verbose output\n",
    "    data = BeautifulSoup(r.content)\n",
    "    string_buf = StringIO(data.text)\n",
    "    metadata = StringIO(data.text).readlines()[:5]\n",
    "    df_cols = ['Year','Month','tMax','tMin','Air Frost','Rainfall', 'Sun hours']\n",
    "    df = pd.read_fwf(StringIO(data.text), skiprows=7, sep=' ',\n",
    "                     na_values=['---', '--'], names=df_cols)\n",
    "    val.extend([df, metadata])\n",
    "    # print(f'{key} complete') # uncomment for verbose output\n",
    "    time.sleep(.2) # pause between GET requests"
   ]
  },
  {
   "cell_type": "markdown",
   "id": "34367c45-acb1-4697-a5ab-bb5da45ad9b9",
   "metadata": {},
   "source": [
    "# Data munging"
   ]
  },
  {
   "cell_type": "code",
   "execution_count": 5,
   "id": "ee045f38-eb9e-4cb9-aeea-8b9975ca2abf",
   "metadata": {},
   "outputs": [
    {
     "name": "stdout",
     "output_type": "stream",
     "text": [
      "Braemar No 2 was relocated during the timeseries.\n",
      "Southampton Mayflower Park was relocated during the timeseries.\n"
     ]
    }
   ],
   "source": [
    "relocated_list = [] # a list of stations that were relocated during the time \n",
    "                    # series. We'll use the most recent location.\n",
    "for key, val in station_dict.items():\n",
    "    try:\n",
    "        lat, lon = [float(coord) for coord in re.findall(r'[-.\\d]+', val[2][1].split(',')[1])]\n",
    "        val.extend([lat, lon])\n",
    "    except ValueError:\n",
    "        # get lat and lon from relocated stations. Data appears on the following line\n",
    "        lat, lon = [float(coord) for coord in re.findall(r'[-.\\d]+', val[2][2].split(',')[1])]\n",
    "        print(f'{key} was relocated during the timeseries.')\n",
    "        val.extend([lat, lon])\n",
    "        pass\n",
    "    except IndexError:\n",
    "        relocated_list.extend([key])"
   ]
  },
  {
   "cell_type": "markdown",
   "id": "0a5190ea-7e56-4f11-90f7-5ee906e09392",
   "metadata": {},
   "source": [
    "Met station data is non-standard i.e. there are multiple different ways that \n",
    "missing measurements are represented ('---', '--'). These blocks of code extract\n",
    "measurements into a standard format and add some metadata that will be needed\n",
    "such as the coordinates of each Met station."
   ]
  },
  {
   "cell_type": "code",
   "execution_count": 6,
   "id": "9a317057-65ad-4ef4-aa76-78f0df0f02f7",
   "metadata": {},
   "outputs": [],
   "source": [
    "# parse the lat, lon by hand for these stations\n",
    "# relocated_list = ['Lowestoft Monckton Avenue', 'Nairn Druim', 'Whitby']\n",
    "\n",
    "station_dict['Lowestoft Monckton Avenue'][2]\n",
    "lat, lon = 52.483, 1.727\n",
    "station_dict['Lowestoft Monckton Avenue'].extend([lat, lon])\n",
    "\n",
    "station_dict['Nairn Druim'][2]\n",
    "lat, lon = 57.593, -3.821\n",
    "station_dict['Nairn Druim'].extend([lat, lon])\n",
    "\n",
    "station_dict['Whitby'][2]\n",
    "lat, lon = 54.481, -0.624\n",
    "station_dict['Whitby'].extend([lat, lon])"
   ]
  },
  {
   "cell_type": "code",
   "execution_count": 7,
   "id": "0658fca8-018f-41c4-9a2d-f35f2d212d6a",
   "metadata": {
    "collapsed": true,
    "jupyter": {
     "outputs_hidden": true
    }
   },
   "outputs": [
    {
     "name": "stdout",
     "output_type": "stream",
     "text": [
      "Aberporth okay.\n",
      "Armagh okay.\n",
      "Ballypatrick Forest okay.\n",
      "Bradford okay.\n",
      "Removed units header from Braemar No 2.\n",
      "Camborne okay.\n",
      "Cambridge Niab okay.\n",
      "Cardiff Bute Park okay.\n",
      "Chivenor okay.\n",
      "Cwmystwyth okay.\n",
      "Dunstaffnage okay.\n",
      "Durham okay.\n",
      "Eastbourne okay.\n",
      "Eskdalemuir okay.\n",
      "Heathrow okay.\n",
      "Hurn okay.\n",
      "Lerwick okay.\n",
      "Leuchars okay.\n",
      "Removed units header from Lowestoft Monckton Avenue.\n",
      "Manston okay.\n",
      "Removed units header from Nairn Druim.\n",
      "Newton Rigg okay.\n",
      "Oxford okay.\n",
      "Paisley okay.\n",
      "Ringway okay.\n",
      "Ross-on-wye okay.\n",
      "Shawbury okay.\n",
      "Sheffield okay.\n",
      "Removed units header from Southampton Mayflower Park.\n",
      "Stornoway Airport okay.\n",
      "Sutton Bonington okay.\n",
      "Tiree okay.\n",
      "Valley okay.\n",
      "Waddington okay.\n",
      "Removed units header from Whitby.\n",
      "Wick Airport okay.\n",
      "Yeovilton okay.\n"
     ]
    }
   ],
   "source": [
    "for key, val in station_dict.items():\n",
    "    df = val[1]\n",
    "    if df.loc[0, 'Sun hours'] == 'hours':\n",
    "        station_dict[key][1] = df.iloc[1:].reset_index(drop=True)\n",
    "        df = df.iloc[1:]\n",
    "        print(f'Removed units header from {key}.')\n",
    "    else:\n",
    "        print(f'{key} okay.')"
   ]
  },
  {
   "cell_type": "code",
   "execution_count": 8,
   "id": "08c40803-07d8-4a2c-9f3f-dbfa2005385f",
   "metadata": {},
   "outputs": [
    {
     "name": "stderr",
     "output_type": "stream",
     "text": [
      "<>:5: SyntaxWarning: invalid escape sequence '\\*'\n",
      "<>:5: SyntaxWarning: invalid escape sequence '\\*'\n",
      "/tmp/ipykernel_45043/292108890.py:5: SyntaxWarning: invalid escape sequence '\\*'\n",
      "  station_dict[key][1] = station_dict[key][1].replace({'\\*': ''}, regex=True)\n"
     ]
    }
   ],
   "source": [
    "# Air Frost and Sun hours won't be used in this notebook\n",
    "cols_to_drop = ['Air Frost', 'Sun hours']\n",
    "for key, val in station_dict.items():\n",
    "    station_dict[key][1] = station_dict[key][1].drop(columns=cols_to_drop)\n",
    "    station_dict[key][1] = station_dict[key][1].replace({'\\*': ''}, regex=True)"
   ]
  },
  {
   "cell_type": "code",
   "execution_count": 9,
   "id": "5230163f-8c8a-4959-b59d-66d548f5fbfe",
   "metadata": {},
   "outputs": [],
   "source": [
    "# These sites have strings as end of file markers in their last row.\n",
    "station_dict['Cwmystwyth'][1] = station_dict['Cwmystwyth'][1].iloc[:-1] # last row is string\n",
    "station_dict['Ringway'][1] = station_dict['Ringway'][1].iloc[:-1] # last row is string\n",
    "station_dict['Southampton Mayflower Park'][1] = station_dict['Southampton Mayflower Park'][1].iloc[:-1] # last row is string"
   ]
  },
  {
   "cell_type": "code",
   "execution_count": 10,
   "id": "c9129cf5-ffc0-4575-be52-71a1b493a958",
   "metadata": {
    "collapsed": true,
    "jupyter": {
     "outputs_hidden": true
    }
   },
   "outputs": [
    {
     "name": "stdout",
     "output_type": "stream",
     "text": [
      "Aberporth\n",
      "Armagh\n",
      "Ballypatrick Forest\n",
      "Bradford\n",
      "Braemar No 2\n",
      "Camborne\n",
      "Cambridge Niab\n",
      "Cardiff Bute Park\n",
      "Chivenor\n",
      "Cwmystwyth\n",
      "Dunstaffnage\n",
      "Durham\n",
      "Eastbourne\n",
      "Eskdalemuir\n",
      "Heathrow\n",
      "Hurn\n",
      "Lerwick\n",
      "Leuchars\n",
      "Lowestoft Monckton Avenue\n",
      "Manston\n",
      "Nairn Druim\n",
      "Newton Rigg\n",
      "Oxford\n",
      "Paisley\n",
      "Ringway\n",
      "Ross-on-wye\n",
      "Shawbury\n",
      "Sheffield\n",
      "Southampton Mayflower Park\n",
      "Stornoway Airport\n",
      "Sutton Bonington\n",
      "Tiree\n",
      "Valley\n",
      "Waddington\n",
      "Whitby\n",
      "Wick Airport\n",
      "Yeovilton\n"
     ]
    }
   ],
   "source": [
    "# Assign the correct data types to each column\n",
    "for key, val in station_dict.items():\n",
    "    station_dict[key][1] = station_dict[key][1].astype(\n",
    "    {'Year': 'Int64',\n",
    "    'Month': 'Int64',\n",
    "    'tMax': 'float32',\n",
    "    'tMin': 'float32',\n",
    "    'Rainfall': 'float32'}\n",
    "    )"
   ]
  },
  {
   "cell_type": "code",
   "execution_count": null,
   "id": "94115fa7-41bd-4d0c-b4c2-286f8d3fee35",
   "metadata": {},
   "outputs": [],
   "source": [
    "# Uncomment to export DataFrames\n",
    "'''\n",
    "for each_site, each_df in station_dict.items():\n",
    "    each_df[1].to_csv(f'{each_site}.csv', index=False)\n",
    "'''"
   ]
  },
  {
   "cell_type": "markdown",
   "id": "28eb0a98-90db-4320-b28f-43d327c16fd1",
   "metadata": {},
   "source": [
    "### Importing spatial data"
   ]
  },
  {
   "cell_type": "code",
   "execution_count": 2,
   "id": "1a7e1da7-4f6b-4283-ae76-1e76a8111676",
   "metadata": {},
   "outputs": [],
   "source": [
    "import os \n",
    "\n",
    "import geopandas as gpd\n",
    "import matplotlib.pyplot as plt\n",
    "import numpy as np\n",
    "from pandas.tseries.offsets import MonthEnd"
   ]
  },
  {
   "cell_type": "code",
   "execution_count": 3,
   "id": "dbfd7aae-7391-43a0-aa4f-435733e31787",
   "metadata": {},
   "outputs": [],
   "source": [
    "# Retrieve previously scraped Met station data\n",
    "fnames = [f for f in os.listdir('data') if f.endswith('.csv')]\n",
    "data_dir = 'data'\n",
    "data_dict = {}\n",
    "for each_fname in fnames:\n",
    "    data_dict[each_fname.split('.')[0]] = pd.read_csv(f'{data_dir}/{each_fname}')\n",
    "\n",
    "# sort sites alphabetically\n",
    "data_dict = dict(sorted(data_dict.items()))"
   ]
  },
  {
   "cell_type": "code",
   "execution_count": 4,
   "id": "373ba6b5-8eab-440e-aab4-dea8a51a05e8",
   "metadata": {},
   "outputs": [],
   "source": [
    "# Set DataFrame indicies to be DateTime objects\n",
    "for each_site, each_df in data_dict.items():\n",
    "    each_df['Date'] = pd.to_datetime(dict(year=each_df['Year'], month=each_df['Month'], day=1)) + MonthEnd(0)\n",
    "    data_dict[each_site] = each_df.set_index('Date', drop=True)\n",
    "    cols_to_drop = ['Year', 'Month']\n",
    "    data_dict[each_site] = data_dict[each_site].drop(cols_to_drop, axis=1)"
   ]
  },
  {
   "cell_type": "code",
   "execution_count": 5,
   "id": "e9123526-7f77-4136-bdda-660e90e28a54",
   "metadata": {},
   "outputs": [
    {
     "data": {
      "text/plain": [
       "{'Aberporth':             Rainfall\n",
       " Date                \n",
       " 1941-01-31      74.7\n",
       " 1941-02-28      69.1\n",
       " 1941-03-31      76.2\n",
       " 1941-04-30      33.7\n",
       " 1941-05-31      51.3\n",
       " ...              ...\n",
       " 2025-01-31     115.0\n",
       " 2025-02-28      59.2\n",
       " 2025-03-31      16.8\n",
       " 2025-04-30      84.8\n",
       " 2025-05-31      15.8\n",
       " \n",
       " [1013 rows x 1 columns],\n",
       " 'Armagh':             Rainfall\n",
       " Date                \n",
       " 1853-01-31      57.3\n",
       " 1853-02-28      32.3\n",
       " 1853-03-31      65.5\n",
       " 1853-04-30      46.2\n",
       " 1853-05-31      13.2\n",
       " ...              ...\n",
       " 2025-01-31      38.8\n",
       " 2025-02-28      40.2\n",
       " 2025-03-31      17.8\n",
       " 2025-04-30      56.6\n",
       " 2025-05-31      36.2\n",
       " \n",
       " [2069 rows x 1 columns],\n",
       " 'Ballypatrick Forest':             Rainfall\n",
       " Date                \n",
       " 1961-07-31       NaN\n",
       " 1961-08-31       NaN\n",
       " 1961-09-30       NaN\n",
       " 1961-10-31       NaN\n",
       " 1961-11-30       NaN\n",
       " ...              ...\n",
       " 2025-01-31      30.0\n",
       " 2025-02-28      63.0\n",
       " 2025-03-31      32.0\n",
       " 2025-04-30      85.0\n",
       " 2025-05-31      66.0\n",
       " \n",
       " [767 rows x 1 columns],\n",
       " 'Bradford':             Rainfall\n",
       " Date                \n",
       " 1908-01-31       NaN\n",
       " 1908-02-29       NaN\n",
       " 1908-03-31       NaN\n",
       " 1908-04-30       NaN\n",
       " 1908-05-31       NaN\n",
       " ...              ...\n",
       " 2025-01-31      92.6\n",
       " 2025-02-28      35.6\n",
       " 2025-03-31      27.6\n",
       " 2025-04-30       9.4\n",
       " 2025-05-31      33.2\n",
       " \n",
       " [1409 rows x 1 columns],\n",
       " 'Braemar No 2':             Rainfall\n",
       " Date                \n",
       " 1959-01-31       NaN\n",
       " 1959-02-28       NaN\n",
       " 1959-03-31       NaN\n",
       " 1959-04-30       NaN\n",
       " 1959-05-31       NaN\n",
       " ...              ...\n",
       " 2025-01-31      49.2\n",
       " 2025-02-28      74.0\n",
       " 2025-03-31      27.0\n",
       " 2025-04-30      19.2\n",
       " 2025-05-31      42.2\n",
       " \n",
       " [797 rows x 1 columns],\n",
       " 'Camborne':             Rainfall\n",
       " Date                \n",
       " 1978-09-30      26.7\n",
       " 1978-10-31      20.4\n",
       " 1978-11-30      56.3\n",
       " 1978-12-31     276.7\n",
       " 1979-01-31     134.8\n",
       " ...              ...\n",
       " 2025-01-31     152.0\n",
       " 2025-02-28      91.6\n",
       " 2025-03-31      34.4\n",
       " 2025-04-30     116.2\n",
       " 2025-05-31      25.2\n",
       " \n",
       " [561 rows x 1 columns],\n",
       " 'Cambridge Niab':             Rainfall\n",
       " Date                \n",
       " 1959-01-31       NaN\n",
       " 1959-02-28       NaN\n",
       " 1959-03-31       NaN\n",
       " 1959-04-30       NaN\n",
       " 1959-05-31       NaN\n",
       " ...              ...\n",
       " 2025-01-31      46.4\n",
       " 2025-02-28      38.2\n",
       " 2025-03-31       6.8\n",
       " 2025-04-30      34.0\n",
       " 2025-05-31      14.4\n",
       " \n",
       " [797 rows x 1 columns],\n",
       " 'Cardiff Bute Park':             Rainfall\n",
       " Date                \n",
       " 1977-09-30      48.6\n",
       " 1977-10-31      76.0\n",
       " 1977-11-30     147.9\n",
       " 1977-12-31      88.0\n",
       " 1978-01-31     134.1\n",
       " ...              ...\n",
       " 2025-01-31     128.2\n",
       " 2025-02-28      87.6\n",
       " 2025-03-31      13.2\n",
       " 2025-04-30      79.4\n",
       " 2025-05-31      30.8\n",
       " \n",
       " [573 rows x 1 columns],\n",
       " 'Chivenor':             Rainfall\n",
       " Date                \n",
       " 1951-01-31     106.2\n",
       " 1951-02-28      96.3\n",
       " 1951-03-31     102.1\n",
       " 1951-04-30      94.2\n",
       " 1951-05-31      59.9\n",
       " ...              ...\n",
       " 2025-01-31     116.4\n",
       " 2025-02-28      52.0\n",
       " 2025-03-31       6.2\n",
       " 2025-04-30      79.3\n",
       " 2025-05-31      18.0\n",
       " \n",
       " [833 rows x 1 columns],\n",
       " 'Cwmystwyth':             Rainfall\n",
       " Date                \n",
       " 1959-01-31       NaN\n",
       " 1959-02-28       NaN\n",
       " 1959-03-31       NaN\n",
       " 1959-04-30       NaN\n",
       " 1959-05-31       NaN\n",
       " ...              ...\n",
       " 2010-11-30     154.9\n",
       " 2010-12-31      82.6\n",
       " 2011-01-31     191.4\n",
       " 2011-02-28     165.8\n",
       " 2011-03-31      35.5\n",
       " \n",
       " [618 rows x 1 columns],\n",
       " 'Dunstaffnage':             Rainfall\n",
       " Date                \n",
       " 1971-06-30      71.4\n",
       " 1971-07-31      50.1\n",
       " 1971-08-31      83.0\n",
       " 1971-09-30      75.3\n",
       " 1971-10-31     270.7\n",
       " ...              ...\n",
       " 2025-01-31      91.0\n",
       " 2025-02-28     144.0\n",
       " 2025-03-31     109.6\n",
       " 2025-04-30      39.0\n",
       " 2025-05-31      94.8\n",
       " \n",
       " [648 rows x 1 columns],\n",
       " 'Durham':             Rainfall\n",
       " Date                \n",
       " 1880-01-31      13.5\n",
       " 1880-02-29      44.3\n",
       " 1880-03-31      32.5\n",
       " 1880-04-30      51.5\n",
       " 1880-05-31      38.1\n",
       " ...              ...\n",
       " 2025-01-31      61.0\n",
       " 2025-02-28      33.4\n",
       " 2025-03-31      20.8\n",
       " 2025-04-30       4.2\n",
       " 2025-05-31      23.2\n",
       " \n",
       " [1745 rows x 1 columns],\n",
       " 'Eastbourne':             Rainfall\n",
       " Date                \n",
       " 1959-01-31     109.5\n",
       " 1959-02-28       0.0\n",
       " 1959-03-31      43.0\n",
       " 1959-04-30      62.5\n",
       " 1959-05-31      12.5\n",
       " ...              ...\n",
       " 2025-01-31     117.6\n",
       " 2025-02-28      55.0\n",
       " 2025-03-31       8.8\n",
       " 2025-04-30      31.1\n",
       " 2025-05-31      19.4\n",
       " \n",
       " [797 rows x 1 columns],\n",
       " 'Eskdalemuir':             Rainfall\n",
       " Date                \n",
       " 1911-01-31     107.7\n",
       " 1911-02-28     233.6\n",
       " 1911-03-31      73.5\n",
       " 1911-04-30     172.4\n",
       " 1911-05-31      87.9\n",
       " ...              ...\n",
       " 2025-01-31      85.4\n",
       " 2025-02-28     145.8\n",
       " 2025-03-31      66.2\n",
       " 2025-04-30      50.4\n",
       " 2025-05-31     112.8\n",
       " \n",
       " [1373 rows x 1 columns],\n",
       " 'Heathrow':             Rainfall\n",
       " Date                \n",
       " 1948-01-31      85.0\n",
       " 1948-02-29      26.0\n",
       " 1948-03-31      14.0\n",
       " 1948-04-30      35.0\n",
       " 1948-05-31      57.0\n",
       " ...              ...\n",
       " 2025-01-31      80.4\n",
       " 2025-02-28      44.2\n",
       " 2025-03-31       4.4\n",
       " 2025-04-30      18.8\n",
       " 2025-05-31      15.4\n",
       " \n",
       " [929 rows x 1 columns],\n",
       " 'Hurn':             Rainfall\n",
       " Date                \n",
       " 1957-01-31      73.0\n",
       " 1957-02-28     100.5\n",
       " 1957-03-31      61.3\n",
       " 1957-04-30       5.5\n",
       " 1957-05-31      43.7\n",
       " ...              ...\n",
       " 2025-01-31     134.0\n",
       " 2025-02-28      58.8\n",
       " 2025-03-31      10.0\n",
       " 2025-04-30      39.4\n",
       " 2025-05-31      20.6\n",
       " \n",
       " [821 rows x 1 columns],\n",
       " 'Lerwick':             Rainfall\n",
       " Date                \n",
       " 1930-12-31     122.4\n",
       " 1931-01-31     108.0\n",
       " 1931-02-28     138.3\n",
       " 1931-03-31      18.2\n",
       " 1931-04-30      70.9\n",
       " ...              ...\n",
       " 2025-01-31      95.6\n",
       " 2025-02-28      53.4\n",
       " 2025-03-31     144.8\n",
       " 2025-04-30      35.4\n",
       " 2025-05-31      65.6\n",
       " \n",
       " [1134 rows x 1 columns],\n",
       " 'Leuchars':             Rainfall\n",
       " Date                \n",
       " 1957-01-31      70.2\n",
       " 1957-02-28      85.7\n",
       " 1957-03-31      38.5\n",
       " 1957-04-30      11.6\n",
       " 1957-05-31      32.1\n",
       " ...              ...\n",
       " 2025-01-31      33.4\n",
       " 2025-02-28      32.0\n",
       " 2025-03-31      21.8\n",
       " 2025-04-30      12.4\n",
       " 2025-05-31      31.4\n",
       " \n",
       " [821 rows x 1 columns],\n",
       " 'Lowestoft Monckton Avenue':             Rainfall\n",
       " Date                \n",
       " 1914-01-31      52.0\n",
       " 1914-02-28      28.0\n",
       " 1914-03-31       NaN\n",
       " 1914-04-30      18.0\n",
       " 1914-05-31      38.0\n",
       " ...              ...\n",
       " 2025-01-31      41.6\n",
       " 2025-02-28      42.7\n",
       " 2025-03-31       4.7\n",
       " 2025-04-30      15.0\n",
       " 2025-05-31      14.2\n",
       " \n",
       " [1325 rows x 1 columns],\n",
       " 'Manston':             Rainfall\n",
       " Date                \n",
       " 1934-07-31      37.1\n",
       " 1934-08-31      51.6\n",
       " 1934-09-30      25.4\n",
       " 1934-10-31      56.1\n",
       " 1934-11-30      45.2\n",
       " ...              ...\n",
       " 2025-01-31      67.0\n",
       " 2025-02-28      37.6\n",
       " 2025-03-31       4.8\n",
       " 2025-04-30      17.8\n",
       " 2025-05-31      11.2\n",
       " \n",
       " [1007 rows x 1 columns],\n",
       " 'Nairn Druim':             Rainfall\n",
       " Date                \n",
       " 1931-01-31      78.4\n",
       " 1931-02-28      48.9\n",
       " 1931-03-31      37.6\n",
       " 1931-04-30      44.6\n",
       " 1931-05-31      63.7\n",
       " ...              ...\n",
       " 2025-01-31      36.5\n",
       " 2025-02-28      13.7\n",
       " 2025-03-31      35.6\n",
       " 2025-04-30      23.6\n",
       " 2025-05-31      43.9\n",
       " \n",
       " [1133 rows x 1 columns],\n",
       " 'Newton Rigg':             Rainfall\n",
       " Date                \n",
       " 1959-01-31       NaN\n",
       " 1959-02-28       NaN\n",
       " 1959-03-31       NaN\n",
       " 1959-04-30       NaN\n",
       " 1959-05-31       NaN\n",
       " ...              ...\n",
       " 2025-01-31      54.2\n",
       " 2025-02-28      58.1\n",
       " 2025-03-31      23.0\n",
       " 2025-04-30      14.2\n",
       " 2025-05-31      51.2\n",
       " \n",
       " [797 rows x 1 columns],\n",
       " 'Oxford':             Rainfall\n",
       " Date                \n",
       " 1853-01-31      62.8\n",
       " 1853-02-28      29.3\n",
       " 1853-03-31      25.9\n",
       " 1853-04-30      60.1\n",
       " 1853-05-31      59.5\n",
       " ...              ...\n",
       " 2025-01-31      69.7\n",
       " 2025-02-28      32.7\n",
       " 2025-03-31       1.5\n",
       " 2025-04-30      17.8\n",
       " 2025-05-31      26.0\n",
       " \n",
       " [2069 rows x 1 columns],\n",
       " 'Paisley':             Rainfall\n",
       " Date                \n",
       " 1959-01-31      40.9\n",
       " 1959-02-28      41.8\n",
       " 1959-03-31      50.9\n",
       " 1959-04-30      76.3\n",
       " 1959-05-31      24.0\n",
       " ...              ...\n",
       " 2025-01-31      58.0\n",
       " 2025-02-28      93.6\n",
       " 2025-03-31      55.4\n",
       " 2025-04-30      41.9\n",
       " 2025-05-31      91.3\n",
       " \n",
       " [797 rows x 1 columns],\n",
       " 'Ringway':             Rainfall\n",
       " Date                \n",
       " 1946-01-31       NaN\n",
       " 1946-02-28       NaN\n",
       " 1946-03-31       NaN\n",
       " 1946-04-30       NaN\n",
       " 1946-05-31       NaN\n",
       " ...              ...\n",
       " 2004-06-30       8.0\n",
       " 2004-07-31       4.0\n",
       " 2004-08-31       5.4\n",
       " 2004-09-30       0.2\n",
       " 2004-10-31       5.2\n",
       " \n",
       " [706 rows x 1 columns],\n",
       " 'Ross-on-wye':             Rainfall\n",
       " Date                \n",
       " 1930-12-31      83.8\n",
       " 1931-01-31      35.2\n",
       " 1931-02-28      43.5\n",
       " 1931-03-31       9.5\n",
       " 1931-04-30      68.9\n",
       " ...              ...\n",
       " 2025-01-31     113.8\n",
       " 2025-02-28      56.2\n",
       " 2025-03-31       7.0\n",
       " 2025-04-30      19.6\n",
       " 2025-05-31       7.2\n",
       " \n",
       " [1134 rows x 1 columns],\n",
       " 'Shawbury':             Rainfall\n",
       " Date                \n",
       " 1946-01-31      58.3\n",
       " 1946-02-28      74.2\n",
       " 1946-03-31      19.8\n",
       " 1946-04-30      22.3\n",
       " 1946-05-31      49.6\n",
       " ...              ...\n",
       " 2025-01-31      61.0\n",
       " 2025-02-28      28.0\n",
       " 2025-03-31      12.0\n",
       " 2025-04-30      24.8\n",
       " 2025-05-31      34.4\n",
       " \n",
       " [953 rows x 1 columns],\n",
       " 'Sheffield':             Rainfall\n",
       " Date                \n",
       " 1883-01-31     122.1\n",
       " 1883-02-28      69.8\n",
       " 1883-03-31      29.6\n",
       " 1883-04-30      74.0\n",
       " 1883-05-31      31.2\n",
       " ...              ...\n",
       " 2025-01-31     100.6\n",
       " 2025-02-28      35.4\n",
       " 2025-03-31      28.8\n",
       " 2025-04-30      10.2\n",
       " 2025-05-31      31.8\n",
       " \n",
       " [1709 rows x 1 columns],\n",
       " 'Southampton Mayflower Park':             Rainfall\n",
       " Date                \n",
       " 1855-01-31       NaN\n",
       " 1855-02-28      54.3\n",
       " 1855-03-31      61.3\n",
       " 1855-04-30      10.1\n",
       " 1855-05-31      60.0\n",
       " ...              ...\n",
       " 1999-11-30      49.6\n",
       " 1999-12-31     138.8\n",
       " 2000-01-31      26.3\n",
       " 2000-02-29      88.5\n",
       " 2000-03-31      14.7\n",
       " \n",
       " [1743 rows x 1 columns],\n",
       " 'Stornoway Airport':             Rainfall\n",
       " Date                \n",
       " 1873-07-31     110.5\n",
       " 1873-08-31     141.0\n",
       " 1873-09-30     100.7\n",
       " 1873-10-31     164.1\n",
       " 1873-11-30      91.9\n",
       " ...              ...\n",
       " 2025-01-31      88.0\n",
       " 2025-02-28      97.0\n",
       " 2025-03-31      97.2\n",
       " 2025-04-30      42.0\n",
       " 2025-05-31      48.0\n",
       " \n",
       " [1823 rows x 1 columns],\n",
       " 'Sutton Bonington':             Rainfall\n",
       " Date                \n",
       " 1959-01-31       NaN\n",
       " 1959-02-28       NaN\n",
       " 1959-03-31       NaN\n",
       " 1959-04-30       NaN\n",
       " 1959-05-31       NaN\n",
       " ...              ...\n",
       " 2025-01-31      65.4\n",
       " 2025-02-28      26.2\n",
       " 2025-03-31      12.8\n",
       " 2025-04-30      11.2\n",
       " 2025-05-31      37.0\n",
       " \n",
       " [797 rows x 1 columns],\n",
       " 'Tiree':             Rainfall\n",
       " Date                \n",
       " 1928-01-31       NaN\n",
       " 1928-02-29       NaN\n",
       " 1928-03-31       NaN\n",
       " 1928-04-30       NaN\n",
       " 1928-05-31       NaN\n",
       " ...              ...\n",
       " 2025-01-31      78.0\n",
       " 2025-02-28      69.6\n",
       " 2025-03-31      38.6\n",
       " 2025-04-30      61.6\n",
       " 2025-05-31      40.2\n",
       " \n",
       " [1169 rows x 1 columns],\n",
       " 'Valley':             Rainfall\n",
       " Date                \n",
       " 1930-12-31     130.3\n",
       " 1931-01-31      66.2\n",
       " 1931-02-28      60.6\n",
       " 1931-03-31      32.5\n",
       " 1931-04-30      47.1\n",
       " ...              ...\n",
       " 2025-01-31      97.3\n",
       " 2025-02-28      38.2\n",
       " 2025-03-31      21.8\n",
       " 2025-04-30      68.2\n",
       " 2025-05-31      31.0\n",
       " \n",
       " [1134 rows x 1 columns],\n",
       " 'Waddington':             Rainfall\n",
       " Date                \n",
       " 1947-01-31      34.0\n",
       " 1947-02-28      19.0\n",
       " 1947-03-31      95.0\n",
       " 1947-04-30      43.0\n",
       " 1947-05-31      13.0\n",
       " ...              ...\n",
       " 2025-01-31      60.4\n",
       " 2025-02-28      25.0\n",
       " 2025-03-31      10.1\n",
       " 2025-04-30      12.0\n",
       " 2025-05-31      27.2\n",
       " \n",
       " [941 rows x 1 columns],\n",
       " 'Whitby':             Rainfall\n",
       " Date                \n",
       " 1961-09-30      26.9\n",
       " 1961-10-31      74.3\n",
       " 1961-11-30      19.1\n",
       " 1961-12-31      33.0\n",
       " 1962-01-31      50.7\n",
       " ...              ...\n",
       " 2025-01-31      65.1\n",
       " 2025-02-28      22.9\n",
       " 2025-03-31      14.5\n",
       " 2025-04-30      15.3\n",
       " 2025-05-31      22.5\n",
       " \n",
       " [765 rows x 1 columns],\n",
       " 'Wick Airport':             Rainfall\n",
       " Date                \n",
       " 1914-01-31      48.3\n",
       " 1914-02-28      66.0\n",
       " 1914-03-31      76.7\n",
       " 1914-04-30      27.9\n",
       " 1914-05-31      61.0\n",
       " ...              ...\n",
       " 2025-01-31      50.4\n",
       " 2025-02-28      22.4\n",
       " 2025-03-31      47.6\n",
       " 2025-04-30      13.4\n",
       " 2025-05-31      28.8\n",
       " \n",
       " [1337 rows x 1 columns],\n",
       " 'Yeovilton':             Rainfall\n",
       " Date                \n",
       " 1964-09-30      37.4\n",
       " 1964-10-31      77.8\n",
       " 1964-11-30      45.5\n",
       " 1964-12-31      65.1\n",
       " 1965-01-31      74.6\n",
       " ...              ...\n",
       " 2025-01-31     139.0\n",
       " 2025-02-28      51.2\n",
       " 2025-03-31       6.4\n",
       " 2025-04-30      15.6\n",
       " 2025-05-31      17.6\n",
       " \n",
       " [729 rows x 1 columns]}"
      ]
     },
     "execution_count": 5,
     "metadata": {},
     "output_type": "execute_result"
    }
   ],
   "source": [
    "def drop_unused_cols(data_dict, cols_to_keep=['Rainfall']):\n",
    "    \"\"\"Iterate through each DataFrame in data_dict and only keep columns specified in\n",
    "    cols_to_keep. NB this function modifies data_dict in place. Returns modified data_dict.\"\"\"\n",
    "\n",
    "    for each_station, each_df in data_dict.items():\n",
    "        data_dict[each_station] = each_df.loc[:, cols_to_keep]\n",
    "\n",
    "    return data_dict\n",
    "\n",
    "# Remove unneeded variables from columns in each dataframe\n",
    "drop_unused_cols(data_dict)"
   ]
  },
  {
   "cell_type": "markdown",
   "id": "3b46dccb-3d0c-4e37-82b5-3df49b1c5ca1",
   "metadata": {},
   "source": [
    "These blocks of code import supporting data. UK house price data isn't not spatially aware, so spatial information will be imported seperately and joined to the house price data. Administritive boundaries are in a geographic coordinate system. Met station data will be assosicated to areas based on distance, so these coordinates will be reprojected into a projected coordinate system."
   ]
  },
  {
   "cell_type": "code",
   "execution_count": 6,
   "id": "03896f29-7b33-421a-aee6-3baeb397dbbf",
   "metadata": {},
   "outputs": [],
   "source": [
    "# This .csv contains average house prices by administrative unit\n",
    "house_price_df = pd.read_csv('Average-prices-2025-04.csv', index_col='Date')\n",
    "\n",
    "# truncate house price data to 1 day and drop uneeded columns\n",
    "house_price_df = house_price_df.loc['2025-04-01':'2025-04-01', ['Region_Name', 'Average_Price']]"
   ]
  },
  {
   "cell_type": "code",
   "execution_count": 7,
   "id": "6a9cc3e7-e0c0-4f36-9ded-886c2097bac1",
   "metadata": {},
   "outputs": [
    {
     "data": {
      "image/png": "[encoded data removed]",
      "text/plain": [
       "<Figure size 640x480 with 1 Axes>"
      ]
     },
     "metadata": {},
     "output_type": "display_data"
    }
   ],
   "source": [
    "# Import spatial information on adminstrive boundaries in the UK as the house \n",
    "# price data is not spatial aware\n",
    "admin_boundaries_gdf = gpd.read_file('GBR_adm.zip', layer='GBR_adm2')\n",
    "admin_boundaries_gdf.plot();"
   ]
  },
  {
   "cell_type": "code",
   "execution_count": 8,
   "id": "65ab32c7-2ee6-4f4d-91fb-7ad600bd227a",
   "metadata": {},
   "outputs": [
    {
     "data": {
      "text/plain": [
       "<Geographic 2D CRS: EPSG:4326>\n",
       "Name: WGS 84\n",
       "Axis Info [ellipsoidal]:\n",
       "- Lat[north]: Geodetic latitude (degree)\n",
       "- Lon[east]: Geodetic longitude (degree)\n",
       "Area of Use:\n",
       "- name: World.\n",
       "- bounds: (-180.0, -90.0, 180.0, 90.0)\n",
       "Datum: World Geodetic System 1984 ensemble\n",
       "- Ellipsoid: WGS 84\n",
       "- Prime Meridian: Greenwich"
      ]
     },
     "execution_count": 8,
     "metadata": {},
     "output_type": "execute_result"
    }
   ],
   "source": [
    "house_price_gdf = admin_boundaries_gdf.merge(house_price_df, left_on='NAME_2', right_on='Region_Name', how='left')\n",
    "house_price_gdf.crs"
   ]
  },
  {
   "cell_type": "code",
   "execution_count": 9,
   "id": "9359ae25-997b-415d-802d-8c2315c7316a",
   "metadata": {},
   "outputs": [],
   "source": [
    "# Create a GeoDataFrame of met station coordinates\n",
    "station_coords_df = pd.read_csv('station_coords.csv')\n",
    "station_coords_gdf = gpd.GeoDataFrame(station_coords_df,\n",
    "                         geometry=gpd.points_from_xy(station_coords_df.Lon,\n",
    "                                                     station_coords_df.Lat),\n",
    "                                      crs=house_price_gdf.crs\n",
    "                                     )"
   ]
  },
  {
   "cell_type": "code",
   "execution_count": 20,
   "id": "0aafd49d-1a97-46ca-b554-ccb8b3a33ced",
   "metadata": {},
   "outputs": [],
   "source": [
    "# remove continguous nan occurring at the start or end of valid data\n",
    "def trim_nan_from_head_and_tail(df, print_if_still_nan='n'):\n",
    "    \"\"\"This function takes a pandas DataFrame and trim contingous nans which\n",
    "    occur at the start or end of valid data. It returns the trimmed DataFrame.\n",
    "    NB nans occurring between valid data are not removed. Pass kwarg 'y' to\n",
    "    print number of remaining nan values.\"\"\"\n",
    "\n",
    "    start_of_data = df.first_valid_index()\n",
    "    end_of_data = df.last_valid_index()\n",
    "    df = df.loc[start_of_data:end_of_data]\n",
    "    if print_if_still_nan == 'y':\n",
    "        num_nans = df.isna().sum().to_string(index=False) \n",
    "        print(f'This dataset still contains {num_nans} nan values.')\n",
    "        \n",
    "    return df\n",
    "\n",
    "def interpolate_nans(df):\n",
    "    \"\"\"This function uses linear interpolation to fill missing values in each\n",
    "    dataset in data_dict. It takes a pandas DataFrame and returns the\n",
    "    interpolated DataFrame.\"\"\"\n",
    "\n",
    "    interpolated_df = df.interpolate()\n",
    "    return interpolated_df\n",
    "\n",
    "for each_site, each_df in data_dict.items():\n",
    "    data_dict[each_site] = trim_nan_from_head_and_tail(each_df)\n",
    "    data_dict[each_site] = interpolate_nans(data_dict[each_site])    "
   ]
  },
  {
   "cell_type": "markdown",
   "id": "6056d8d1-1afb-4794-ac4c-525a8654f7b8",
   "metadata": {},
   "source": [
    "# Statistical analysis"
   ]
  },
  {
   "cell_type": "markdown",
   "id": "74a0bfce-1d7e-4975-8798-83825dbe474d",
   "metadata": {},
   "source": [
    "The generalized extreme value distribution will be used to distributions of parameters for rainfall data across the UK.\n",
    "\n",
    "Approach:\n",
    "- Use the annual maxima for each site as 'extreme' values\n",
    "- Use PyMC to find the posterior distribution for each parameter\n",
    "- Use the posterior distribution to estimate the rainfall intensity for a selection of return periods\n",
    "- Incorporate average house prices to make a 'risk-factor'\n",
    "\n",
    "References: Based on Jorn Mossel's [PyData 2023 talk](https://github.com/jjmossel/extremeweather/blob/main/PyData2023_JornMossel_Modeling%20Extreme%20Events%20with%20PyMC.pdf)"
   ]
  },
  {
   "cell_type": "code",
   "execution_count": 11,
   "id": "cee3644a-400d-42a0-b13c-f5e9e4891e74",
   "metadata": {},
   "outputs": [],
   "source": [
    "import arviz as az\n",
    "import multiprocessing # To stop connection time out error on Fedora 41 when initiating MCMC sampler from pymc\n",
    "import pymc as pm\n",
    "import pymc_extras.distributions as pmx"
   ]
  },
  {
   "cell_type": "code",
   "execution_count": 12,
   "id": "cfe77e74-6a8d-417a-a971-7aad8e461876",
   "metadata": {},
   "outputs": [],
   "source": [
    "# much slower to start but prevents 'connection reset error'\n",
    "multiprocessing.set_start_method('spawn', force=True)"
   ]
  },
  {
   "cell_type": "code",
   "execution_count": 13,
   "id": "6e1a9581-cd0f-4bcc-bab1-47913331db4d",
   "metadata": {},
   "outputs": [],
   "source": [
    "def get_annual_max(data_dict):\n",
    "    \"\"\"This function takes a dictionary of pandas DataFrames and resamples by\n",
    "    year, returning the maxima. It return a dictionary containing the resampled\n",
    "    DataFrames.\"\"\"\n",
    "\n",
    "    maxima_dict = data_dict.copy()\n",
    "    for each_site, each_df in maxima_dict.items():\n",
    "        maxima_dict[each_site] = each_df.resample('YE').max()\n",
    "\n",
    "    return maxima_dict\n",
    "\n",
    "maxima_dict = get_annual_max(data_dict)"
   ]
  },
  {
   "cell_type": "code",
   "execution_count": 14,
   "id": "64bd5aa8-678d-44cb-b83b-2a46f984173f",
   "metadata": {},
   "outputs": [],
   "source": [
    "def build_model(df):\n",
    "    \"\"\"Build generalized extreme value model.\"\"\"\n",
    "\n",
    "    mu_estimate = df.median().to_numpy()\n",
    "    sigma_estimate = df.std().to_numpy()\n",
    "    with pm.Model() as model:\n",
    "        # priors\n",
    "        mu = pm.Normal('mu', mu=mu_estimate, sigma=10) # location\n",
    "        sigma = pm.HalfNormal('sigma', sigma=sigma_estimate) # scale\n",
    "        xi = pm.TruncatedNormal('xi', mu=0, sigma=.002, lower=-0.5, upper=0.5) # shape\n",
    "    \n",
    "        # estimation\n",
    "        gev = pmx.GenExtreme('Rainfall', mu=mu, sigma=sigma, xi=xi, observed=df.to_numpy())\n",
    "        idata = pm.sample_prior_predictive(draws=50, random_seed=42)\n",
    "\n",
    "    return model, idata, mu, sigma, xi\n",
    "\n",
    "\n",
    "def run_inference(model, idata):\n",
    "    \"\"\"Samples from model\"\"\"\n",
    "    with model:\n",
    "        idata.extend(pm.sample(\n",
    "            1000,\n",
    "            cores=4,\n",
    "            chains=4,\n",
    "            tune=300\n",
    "        ))\n",
    "    return idata\n",
    "\n",
    "\n",
    "def plot_prior_check(idata):\n",
    "    \"\"\"Plot samples from the priors\"\"\"\n",
    "\n",
    "    fig, ax = plt.subplots(figsize=(10,7))\n",
    "    az.plot_ppc(idata, group='prior', ax=ax)\n",
    "    ax.set_xlim([0, 180])\n",
    "    ax.set_ylim([0, .4])\n",
    "    \n",
    "    return\n",
    "\n",
    "\n",
    "def get_posterior_predictive(model, idata):\n",
    "    \"\"\"Sample from the posterior predictive and add to model inference object.\"\"\"\n",
    "        \n",
    "    with model:\n",
    "        pm.sample_posterior_predictive(idata, extend_inferencedata=True, random_seed=42)\n",
    "\n",
    "    return model, idata\n",
    "\n",
    "\n",
    "def plot_posterior(idata):\n",
    "    \"\"\"Plots posterior check.\"\"\"\n",
    "    \n",
    "    az.plot_ppc(idata, num_pp_samples=100)\n",
    "\n",
    "    return\n",
    "\n",
    "\n",
    "def predict_return_period_and_intensity(model, idata, mu, sigma, xi):\n",
    "    \"\"\"Use the pp to predict return period and intensity for 100 years.\"\"\"\n",
    "    \n",
    "    return_periods = np.logspace(1,2, num=idata.posterior_predictive.Rainfall.shape[2])\n",
    "    \n",
    "    with model:\n",
    "        rp = pm.Data(\"rp\", return_periods) # return period\n",
    "        ri = pm.Deterministic(\"ri\", mu - sigma/xi * (1 - (-np.log(1 - 1/rp)) ** (-xi))) # return intensity\n",
    "        post_pred = pm.sample_posterior_predictive(idata, var_names=['ri'])\n",
    "\n",
    "    return post_pred, rp, ri, return_periods\n",
    "\n",
    "def plot_return_period(post_pred, return_periods):\n",
    "    \n",
    "    y_data = az.summary(post_pred.posterior_predictive, var_names='ri', hdi_prob=0.95)\n",
    "    x = return_periods\n",
    "    y = y_data['mean']\n",
    "    y_lower_conf =y_data['hdi_2.5%']\n",
    "    y_upper_conf =y_data['hdi_97.5%']\n",
    "    fig, ax = plt.subplots()\n",
    "    ax.plot(x,y)\n",
    "    ax.fill_between(x, y_lower_conf, y_upper_conf, alpha=.15)\n",
    "    return y_data, x\n",
    "\n",
    "\n",
    "def fit_gev(df):\n",
    "    \"\"\"Build model and run inference. This function returns a dictionary\n",
    "    containing: the model, an inference object, the posterior predictive,\n",
    "    the return periods used to generate the return intensity, the return\n",
    "    intensity i.e. mm of rainfaill, the mean prediction, the lower HDI, the\n",
    "    upper HDI and the full arviz.summary object.\"\"\"\n",
    "\n",
    "    model, idata, mu, sigma, xi = build_model(df)\n",
    "    idata = run_inference(model, idata)\n",
    "    model, idata = get_posterior_predictive(model, idata)\n",
    "    post_pred, rp, ri, return_periods = predict_return_period_and_intensity(model, idata, mu, sigma, xi)\n",
    "    y_data = az.summary(post_pred.posterior_predictive, var_names='ri', hdi_prob=0.95)\n",
    "    results_dict = {'model': model, 'idata': idata, 'post_pred': post_pred,\n",
    "                    'return periods': return_periods, \n",
    "                    'return intensity': y_data['mean'],\n",
    "                    'Lower': y_data['hdi_2.5%'],\n",
    "                    'Upper': y_data['hdi_97.5%'],\n",
    "                    'az_summary': y_data\n",
    "                   }\n",
    "    return results_dict"
   ]
  },
  {
   "cell_type": "code",
   "execution_count": 22,
   "id": "406de447-6c88-4ec9-94cf-4fac76419ec3",
   "metadata": {},
   "outputs": [
    {
     "name": "stderr",
     "output_type": "stream",
     "text": [
      "Sampling: [Rainfall, mu, sigma, xi]\n"
     ]
    },
    {
     "name": "stdout",
     "output_type": "stream",
     "text": [
      "Processing Aberporth\n"
     ]
    },
    {
     "name": "stderr",
     "output_type": "stream",
     "text": [
      "Initializing NUTS using jitter+adapt_diag...\n",
      "Multiprocess sampling (4 chains in 4 jobs)\n",
      "NUTS: [mu, sigma, xi]\n"
     ]
    },
    {
     "data": {
      "application/vnd.jupyter.widget-view+json": {
       "model_id": "2494a9d9387542febdbfa761c937873f",
       "version_major": 2,
       "version_minor": 0
      },
      "text/plain": [
       "Output()"
      ]
     },
     "metadata": {},
     "output_type": "display_data"
    },
    {
     "data": {
      "text/html": [
       "<pre style=\"white-space:pre;overflow-x:auto;line-height:normal;font-family:Menlo,'DejaVu Sans Mono',consolas,'Courier New',monospace\"></pre>\n"
      ],
      "text/plain": []
     },
     "metadata": {},
     "output_type": "display_data"
    },
    {
     "name": "stderr",
     "output_type": "stream",
     "text": [
      "Sampling 4 chains for 300 tune and 1_000 draw iterations (1_200 + 4_000 draws total) took 41 seconds.\n",
      "Sampling: [Rainfall]\n"
     ]
    },
    {
     "data": {
      "application/vnd.jupyter.widget-view+json": {
       "model_id": "b5d662d7edfb46098222493a8f3f59b8",
       "version_major": 2,
       "version_minor": 0
      },
      "text/plain": [
       "Output()"
      ]
     },
     "metadata": {},
     "output_type": "display_data"
    },
    {
     "data": {
      "text/html": [
       "<pre style=\"white-space:pre;overflow-x:auto;line-height:normal;font-family:Menlo,'DejaVu Sans Mono',consolas,'Courier New',monospace\"></pre>\n"
      ],
      "text/plain": []
     },
     "metadata": {},
     "output_type": "display_data"
    },
    {
     "name": "stderr",
     "output_type": "stream",
     "text": [
      "Sampling: []\n"
     ]
    },
    {
     "data": {
      "application/vnd.jupyter.widget-view+json": {
       "model_id": "75f5c2e58657408790802c90d6504367",
       "version_major": 2,
       "version_minor": 0
      },
      "text/plain": [
       "Output()"
      ]
     },
     "metadata": {},
     "output_type": "display_data"
    },
    {
     "data": {
      "text/html": [
       "<pre style=\"white-space:pre;overflow-x:auto;line-height:normal;font-family:Menlo,'DejaVu Sans Mono',consolas,'Courier New',monospace\"></pre>\n"
      ],
      "text/plain": []
     },
     "metadata": {},
     "output_type": "display_data"
    },
    {
     "name": "stderr",
     "output_type": "stream",
     "text": [
      "Sampling: [Rainfall, mu, sigma, xi]\n"
     ]
    },
    {
     "name": "stdout",
     "output_type": "stream",
     "text": [
      "Processing Armagh\n"
     ]
    },
    {
     "name": "stderr",
     "output_type": "stream",
     "text": [
      "Initializing NUTS using jitter+adapt_diag...\n",
      "Multiprocess sampling (4 chains in 4 jobs)\n",
      "NUTS: [mu, sigma, xi]\n"
     ]
    },
    {
     "data": {
      "application/vnd.jupyter.widget-view+json": {
       "model_id": "1adeb56b0e61442292b8e5e4635a4ff2",
       "version_major": 2,
       "version_minor": 0
      },
      "text/plain": [
       "Output()"
      ]
     },
     "metadata": {},
     "output_type": "display_data"
    },
    {
     "data": {
      "text/html": [
       "<pre style=\"white-space:pre;overflow-x:auto;line-height:normal;font-family:Menlo,'DejaVu Sans Mono',consolas,'Courier New',monospace\"></pre>\n"
      ],
      "text/plain": []
     },
     "metadata": {},
     "output_type": "display_data"
    },
    {
     "name": "stderr",
     "output_type": "stream",
     "text": [
      "Sampling 4 chains for 300 tune and 1_000 draw iterations (1_200 + 4_000 draws total) took 44 seconds.\n",
      "Sampling: [Rainfall]\n"
     ]
    },
    {
     "data": {
      "application/vnd.jupyter.widget-view+json": {
       "model_id": "0d37f0abbff94acf80f3aa13210818f7",
       "version_major": 2,
       "version_minor": 0
      },
      "text/plain": [
       "Output()"
      ]
     },
     "metadata": {},
     "output_type": "display_data"
    },
    {
     "data": {
      "text/html": [
       "<pre style=\"white-space:pre;overflow-x:auto;line-height:normal;font-family:Menlo,'DejaVu Sans Mono',consolas,'Courier New',monospace\"></pre>\n"
      ],
      "text/plain": []
     },
     "metadata": {},
     "output_type": "display_data"
    },
    {
     "name": "stderr",
     "output_type": "stream",
     "text": [
      "Sampling: []\n"
     ]
    },
    {
     "data": {
      "application/vnd.jupyter.widget-view+json": {
       "model_id": "b49b96c9cc0943b79c50614d053a560d",
       "version_major": 2,
       "version_minor": 0
      },
      "text/plain": [
       "Output()"
      ]
     },
     "metadata": {},
     "output_type": "display_data"
    },
    {
     "data": {
      "text/html": [
       "<pre style=\"white-space:pre;overflow-x:auto;line-height:normal;font-family:Menlo,'DejaVu Sans Mono',consolas,'Courier New',monospace\"></pre>\n"
      ],
      "text/plain": []
     },
     "metadata": {},
     "output_type": "display_data"
    },
    {
     "name": "stderr",
     "output_type": "stream",
     "text": [
      "Sampling: [Rainfall, mu, sigma, xi]\n"
     ]
    },
    {
     "name": "stdout",
     "output_type": "stream",
     "text": [
      "Processing Ballypatrick Forest\n"
     ]
    },
    {
     "name": "stderr",
     "output_type": "stream",
     "text": [
      "Initializing NUTS using jitter+adapt_diag...\n",
      "Multiprocess sampling (4 chains in 4 jobs)\n",
      "NUTS: [mu, sigma, xi]\n"
     ]
    },
    {
     "data": {
      "application/vnd.jupyter.widget-view+json": {
       "model_id": "e3584a8aa6264c6e808dc3b424da87b0",
       "version_major": 2,
       "version_minor": 0
      },
      "text/plain": [
       "Output()"
      ]
     },
     "metadata": {},
     "output_type": "display_data"
    },
    {
     "data": {
      "text/html": [
       "<pre style=\"white-space:pre;overflow-x:auto;line-height:normal;font-family:Menlo,'DejaVu Sans Mono',consolas,'Courier New',monospace\"></pre>\n"
      ],
      "text/plain": []
     },
     "metadata": {},
     "output_type": "display_data"
    },
    {
     "name": "stderr",
     "output_type": "stream",
     "text": [
      "Sampling 4 chains for 300 tune and 1_000 draw iterations (1_200 + 4_000 draws total) took 42 seconds.\n",
      "Sampling: [Rainfall]\n"
     ]
    },
    {
     "data": {
      "application/vnd.jupyter.widget-view+json": {
       "model_id": "f201476145684a35991c9e3b2ad640f4",
       "version_major": 2,
       "version_minor": 0
      },
      "text/plain": [
       "Output()"
      ]
     },
     "metadata": {},
     "output_type": "display_data"
    },
    {
     "data": {
      "text/html": [
       "<pre style=\"white-space:pre;overflow-x:auto;line-height:normal;font-family:Menlo,'DejaVu Sans Mono',consolas,'Courier New',monospace\"></pre>\n"
      ],
      "text/plain": []
     },
     "metadata": {},
     "output_type": "display_data"
    },
    {
     "name": "stderr",
     "output_type": "stream",
     "text": [
      "Sampling: []\n"
     ]
    },
    {
     "data": {
      "application/vnd.jupyter.widget-view+json": {
       "model_id": "9a1684d888724072943a8a12297f7f61",
       "version_major": 2,
       "version_minor": 0
      },
      "text/plain": [
       "Output()"
      ]
     },
     "metadata": {},
     "output_type": "display_data"
    },
    {
     "data": {
      "text/html": [
       "<pre style=\"white-space:pre;overflow-x:auto;line-height:normal;font-family:Menlo,'DejaVu Sans Mono',consolas,'Courier New',monospace\"></pre>\n"
      ],
      "text/plain": []
     },
     "metadata": {},
     "output_type": "display_data"
    },
    {
     "name": "stderr",
     "output_type": "stream",
     "text": [
      "Sampling: [Rainfall, mu, sigma, xi]\n"
     ]
    },
    {
     "name": "stdout",
     "output_type": "stream",
     "text": [
      "Processing Bradford\n"
     ]
    },
    {
     "name": "stderr",
     "output_type": "stream",
     "text": [
      "Initializing NUTS using jitter+adapt_diag...\n",
      "Multiprocess sampling (4 chains in 4 jobs)\n",
      "NUTS: [mu, sigma, xi]\n"
     ]
    },
    {
     "data": {
      "application/vnd.jupyter.widget-view+json": {
       "model_id": "519c59edba64411b9665869ca4b14e97",
       "version_major": 2,
       "version_minor": 0
      },
      "text/plain": [
       "Output()"
      ]
     },
     "metadata": {},
     "output_type": "display_data"
    },
    {
     "data": {
      "text/html": [
       "<pre style=\"white-space:pre;overflow-x:auto;line-height:normal;font-family:Menlo,'DejaVu Sans Mono',consolas,'Courier New',monospace\"></pre>\n"
      ],
      "text/plain": []
     },
     "metadata": {},
     "output_type": "display_data"
    },
    {
     "name": "stderr",
     "output_type": "stream",
     "text": [
      "Sampling 4 chains for 300 tune and 1_000 draw iterations (1_200 + 4_000 draws total) took 53 seconds.\n",
      "Sampling: [Rainfall]\n"
     ]
    },
    {
     "data": {
      "application/vnd.jupyter.widget-view+json": {
       "model_id": "88319d20ad2c40d38f0c13f6bfe08413",
       "version_major": 2,
       "version_minor": 0
      },
      "text/plain": [
       "Output()"
      ]
     },
     "metadata": {},
     "output_type": "display_data"
    },
    {
     "data": {
      "text/html": [
       "<pre style=\"white-space:pre;overflow-x:auto;line-height:normal;font-family:Menlo,'DejaVu Sans Mono',consolas,'Courier New',monospace\"></pre>\n"
      ],
      "text/plain": []
     },
     "metadata": {},
     "output_type": "display_data"
    },
    {
     "name": "stderr",
     "output_type": "stream",
     "text": [
      "Sampling: []\n"
     ]
    },
    {
     "data": {
      "application/vnd.jupyter.widget-view+json": {
       "model_id": "7fdceb575717430aa1b4ca55732c0474",
       "version_major": 2,
       "version_minor": 0
      },
      "text/plain": [
       "Output()"
      ]
     },
     "metadata": {},
     "output_type": "display_data"
    },
    {
     "data": {
      "text/html": [
       "<pre style=\"white-space:pre;overflow-x:auto;line-height:normal;font-family:Menlo,'DejaVu Sans Mono',consolas,'Courier New',monospace\"></pre>\n"
      ],
      "text/plain": []
     },
     "metadata": {},
     "output_type": "display_data"
    },
    {
     "name": "stderr",
     "output_type": "stream",
     "text": [
      "Sampling: [Rainfall, mu, sigma, xi]\n"
     ]
    },
    {
     "name": "stdout",
     "output_type": "stream",
     "text": [
      "Processing Braemar No 2\n"
     ]
    },
    {
     "name": "stderr",
     "output_type": "stream",
     "text": [
      "Initializing NUTS using jitter+adapt_diag...\n",
      "Multiprocess sampling (4 chains in 4 jobs)\n",
      "NUTS: [mu, sigma, xi]\n"
     ]
    },
    {
     "data": {
      "application/vnd.jupyter.widget-view+json": {
       "model_id": "c6839af072bd4ab19413ecc7b802598d",
       "version_major": 2,
       "version_minor": 0
      },
      "text/plain": [
       "Output()"
      ]
     },
     "metadata": {},
     "output_type": "display_data"
    },
    {
     "data": {
      "text/html": [
       "<pre style=\"white-space:pre;overflow-x:auto;line-height:normal;font-family:Menlo,'DejaVu Sans Mono',consolas,'Courier New',monospace\"></pre>\n"
      ],
      "text/plain": []
     },
     "metadata": {},
     "output_type": "display_data"
    },
    {
     "name": "stderr",
     "output_type": "stream",
     "text": [
      "Sampling 4 chains for 300 tune and 1_000 draw iterations (1_200 + 4_000 draws total) took 42 seconds.\n",
      "Sampling: [Rainfall]\n"
     ]
    },
    {
     "data": {
      "application/vnd.jupyter.widget-view+json": {
       "model_id": "33f01eaa3e6547c7956b0a30effb6dfe",
       "version_major": 2,
       "version_minor": 0
      },
      "text/plain": [
       "Output()"
      ]
     },
     "metadata": {},
     "output_type": "display_data"
    },
    {
     "data": {
      "text/html": [
       "<pre style=\"white-space:pre;overflow-x:auto;line-height:normal;font-family:Menlo,'DejaVu Sans Mono',consolas,'Courier New',monospace\"></pre>\n"
      ],
      "text/plain": []
     },
     "metadata": {},
     "output_type": "display_data"
    },
    {
     "name": "stderr",
     "output_type": "stream",
     "text": [
      "Sampling: []\n"
     ]
    },
    {
     "data": {
      "application/vnd.jupyter.widget-view+json": {
       "model_id": "176588a295734e1496aa9b6da7b7913e",
       "version_major": 2,
       "version_minor": 0
      },
      "text/plain": [
       "Output()"
      ]
     },
     "metadata": {},
     "output_type": "display_data"
    },
    {
     "data": {
      "text/html": [
       "<pre style=\"white-space:pre;overflow-x:auto;line-height:normal;font-family:Menlo,'DejaVu Sans Mono',consolas,'Courier New',monospace\"></pre>\n"
      ],
      "text/plain": []
     },
     "metadata": {},
     "output_type": "display_data"
    },
    {
     "name": "stderr",
     "output_type": "stream",
     "text": [
      "Sampling: [Rainfall, mu, sigma, xi]\n"
     ]
    },
    {
     "name": "stdout",
     "output_type": "stream",
     "text": [
      "Processing Camborne\n"
     ]
    },
    {
     "name": "stderr",
     "output_type": "stream",
     "text": [
      "Initializing NUTS using jitter+adapt_diag...\n",
      "Multiprocess sampling (4 chains in 4 jobs)\n",
      "NUTS: [mu, sigma, xi]\n"
     ]
    },
    {
     "data": {
      "application/vnd.jupyter.widget-view+json": {
       "model_id": "ad36e2a4985f47419a62106a318255f6",
       "version_major": 2,
       "version_minor": 0
      },
      "text/plain": [
       "Output()"
      ]
     },
     "metadata": {},
     "output_type": "display_data"
    },
    {
     "data": {
      "text/html": [
       "<pre style=\"white-space:pre;overflow-x:auto;line-height:normal;font-family:Menlo,'DejaVu Sans Mono',consolas,'Courier New',monospace\"></pre>\n"
      ],
      "text/plain": []
     },
     "metadata": {},
     "output_type": "display_data"
    },
    {
     "name": "stderr",
     "output_type": "stream",
     "text": [
      "Sampling 4 chains for 300 tune and 1_000 draw iterations (1_200 + 4_000 draws total) took 41 seconds.\n",
      "Sampling: [Rainfall]\n"
     ]
    },
    {
     "data": {
      "application/vnd.jupyter.widget-view+json": {
       "model_id": "4f23eec005444beb82cc6d9098eb4cf0",
       "version_major": 2,
       "version_minor": 0
      },
      "text/plain": [
       "Output()"
      ]
     },
     "metadata": {},
     "output_type": "display_data"
    },
    {
     "data": {
      "text/html": [
       "<pre style=\"white-space:pre;overflow-x:auto;line-height:normal;font-family:Menlo,'DejaVu Sans Mono',consolas,'Courier New',monospace\"></pre>\n"
      ],
      "text/plain": []
     },
     "metadata": {},
     "output_type": "display_data"
    },
    {
     "name": "stderr",
     "output_type": "stream",
     "text": [
      "Sampling: []\n"
     ]
    },
    {
     "data": {
      "application/vnd.jupyter.widget-view+json": {
       "model_id": "8f8ae4333b2e4ca0a4bd2a38cd1cf327",
       "version_major": 2,
       "version_minor": 0
      },
      "text/plain": [
       "Output()"
      ]
     },
     "metadata": {},
     "output_type": "display_data"
    },
    {
     "data": {
      "text/html": [
       "<pre style=\"white-space:pre;overflow-x:auto;line-height:normal;font-family:Menlo,'DejaVu Sans Mono',consolas,'Courier New',monospace\"></pre>\n"
      ],
      "text/plain": []
     },
     "metadata": {},
     "output_type": "display_data"
    },
    {
     "name": "stderr",
     "output_type": "stream",
     "text": [
      "Sampling: [Rainfall, mu, sigma, xi]\n"
     ]
    },
    {
     "name": "stdout",
     "output_type": "stream",
     "text": [
      "Processing Cambridge Niab\n"
     ]
    },
    {
     "name": "stderr",
     "output_type": "stream",
     "text": [
      "Initializing NUTS using jitter+adapt_diag...\n",
      "Multiprocess sampling (4 chains in 4 jobs)\n",
      "NUTS: [mu, sigma, xi]\n"
     ]
    },
    {
     "data": {
      "application/vnd.jupyter.widget-view+json": {
       "model_id": "eb8b91f2ef1243b7b39894b66b145055",
       "version_major": 2,
       "version_minor": 0
      },
      "text/plain": [
       "Output()"
      ]
     },
     "metadata": {},
     "output_type": "display_data"
    },
    {
     "data": {
      "text/html": [
       "<pre style=\"white-space:pre;overflow-x:auto;line-height:normal;font-family:Menlo,'DejaVu Sans Mono',consolas,'Courier New',monospace\"></pre>\n"
      ],
      "text/plain": []
     },
     "metadata": {},
     "output_type": "display_data"
    },
    {
     "name": "stderr",
     "output_type": "stream",
     "text": [
      "Sampling 4 chains for 300 tune and 1_000 draw iterations (1_200 + 4_000 draws total) took 37 seconds.\n",
      "Sampling: [Rainfall]\n"
     ]
    },
    {
     "data": {
      "application/vnd.jupyter.widget-view+json": {
       "model_id": "f36d6241f3f5494faf91733c8119756d",
       "version_major": 2,
       "version_minor": 0
      },
      "text/plain": [
       "Output()"
      ]
     },
     "metadata": {},
     "output_type": "display_data"
    },
    {
     "data": {
      "text/html": [
       "<pre style=\"white-space:pre;overflow-x:auto;line-height:normal;font-family:Menlo,'DejaVu Sans Mono',consolas,'Courier New',monospace\"></pre>\n"
      ],
      "text/plain": []
     },
     "metadata": {},
     "output_type": "display_data"
    },
    {
     "name": "stderr",
     "output_type": "stream",
     "text": [
      "Sampling: []\n"
     ]
    },
    {
     "data": {
      "application/vnd.jupyter.widget-view+json": {
       "model_id": "e1fb90f7182d448e9a28b5ce87d48624",
       "version_major": 2,
       "version_minor": 0
      },
      "text/plain": [
       "Output()"
      ]
     },
     "metadata": {},
     "output_type": "display_data"
    },
    {
     "data": {
      "text/html": [
       "<pre style=\"white-space:pre;overflow-x:auto;line-height:normal;font-family:Menlo,'DejaVu Sans Mono',consolas,'Courier New',monospace\"></pre>\n"
      ],
      "text/plain": []
     },
     "metadata": {},
     "output_type": "display_data"
    },
    {
     "name": "stderr",
     "output_type": "stream",
     "text": [
      "Sampling: [Rainfall, mu, sigma, xi]\n"
     ]
    },
    {
     "name": "stdout",
     "output_type": "stream",
     "text": [
      "Processing Cardiff Bute Park\n"
     ]
    },
    {
     "name": "stderr",
     "output_type": "stream",
     "text": [
      "Initializing NUTS using jitter+adapt_diag...\n",
      "Multiprocess sampling (4 chains in 4 jobs)\n",
      "NUTS: [mu, sigma, xi]\n"
     ]
    },
    {
     "data": {
      "application/vnd.jupyter.widget-view+json": {
       "model_id": "d3017130e6b149e3a7cc15a7f3213dc6",
       "version_major": 2,
       "version_minor": 0
      },
      "text/plain": [
       "Output()"
      ]
     },
     "metadata": {},
     "output_type": "display_data"
    },
    {
     "data": {
      "text/html": [
       "<pre style=\"white-space:pre;overflow-x:auto;line-height:normal;font-family:Menlo,'DejaVu Sans Mono',consolas,'Courier New',monospace\"></pre>\n"
      ],
      "text/plain": []
     },
     "metadata": {},
     "output_type": "display_data"
    },
    {
     "name": "stderr",
     "output_type": "stream",
     "text": [
      "Sampling 4 chains for 300 tune and 1_000 draw iterations (1_200 + 4_000 draws total) took 38 seconds.\n",
      "Sampling: [Rainfall]\n"
     ]
    },
    {
     "data": {
      "application/vnd.jupyter.widget-view+json": {
       "model_id": "9db01c555c3549d39c8017af860993bb",
       "version_major": 2,
       "version_minor": 0
      },
      "text/plain": [
       "Output()"
      ]
     },
     "metadata": {},
     "output_type": "display_data"
    },
    {
     "data": {
      "text/html": [
       "<pre style=\"white-space:pre;overflow-x:auto;line-height:normal;font-family:Menlo,'DejaVu Sans Mono',consolas,'Courier New',monospace\"></pre>\n"
      ],
      "text/plain": []
     },
     "metadata": {},
     "output_type": "display_data"
    },
    {
     "name": "stderr",
     "output_type": "stream",
     "text": [
      "Sampling: []\n"
     ]
    },
    {
     "data": {
      "application/vnd.jupyter.widget-view+json": {
       "model_id": "f55a367a000a4699844f35fc60e2656c",
       "version_major": 2,
       "version_minor": 0
      },
      "text/plain": [
       "Output()"
      ]
     },
     "metadata": {},
     "output_type": "display_data"
    },
    {
     "data": {
      "text/html": [
       "<pre style=\"white-space:pre;overflow-x:auto;line-height:normal;font-family:Menlo,'DejaVu Sans Mono',consolas,'Courier New',monospace\"></pre>\n"
      ],
      "text/plain": []
     },
     "metadata": {},
     "output_type": "display_data"
    },
    {
     "name": "stderr",
     "output_type": "stream",
     "text": [
      "Sampling: [Rainfall, mu, sigma, xi]\n"
     ]
    },
    {
     "name": "stdout",
     "output_type": "stream",
     "text": [
      "Processing Chivenor\n"
     ]
    },
    {
     "name": "stderr",
     "output_type": "stream",
     "text": [
      "Initializing NUTS using jitter+adapt_diag...\n",
      "Multiprocess sampling (4 chains in 4 jobs)\n",
      "NUTS: [mu, sigma, xi]\n"
     ]
    },
    {
     "data": {
      "application/vnd.jupyter.widget-view+json": {
       "model_id": "b636b737a9844c1092b16e1a5c7f04d9",
       "version_major": 2,
       "version_minor": 0
      },
      "text/plain": [
       "Output()"
      ]
     },
     "metadata": {},
     "output_type": "display_data"
    },
    {
     "data": {
      "text/html": [
       "<pre style=\"white-space:pre;overflow-x:auto;line-height:normal;font-family:Menlo,'DejaVu Sans Mono',consolas,'Courier New',monospace\"></pre>\n"
      ],
      "text/plain": []
     },
     "metadata": {},
     "output_type": "display_data"
    },
    {
     "name": "stderr",
     "output_type": "stream",
     "text": [
      "Sampling 4 chains for 300 tune and 1_000 draw iterations (1_200 + 4_000 draws total) took 37 seconds.\n",
      "Sampling: [Rainfall]\n"
     ]
    },
    {
     "data": {
      "application/vnd.jupyter.widget-view+json": {
       "model_id": "90f5a0f6b8284154af24ea49fea044d4",
       "version_major": 2,
       "version_minor": 0
      },
      "text/plain": [
       "Output()"
      ]
     },
     "metadata": {},
     "output_type": "display_data"
    },
    {
     "data": {
      "text/html": [
       "<pre style=\"white-space:pre;overflow-x:auto;line-height:normal;font-family:Menlo,'DejaVu Sans Mono',consolas,'Courier New',monospace\"></pre>\n"
      ],
      "text/plain": []
     },
     "metadata": {},
     "output_type": "display_data"
    },
    {
     "name": "stderr",
     "output_type": "stream",
     "text": [
      "Sampling: []\n"
     ]
    },
    {
     "data": {
      "application/vnd.jupyter.widget-view+json": {
       "model_id": "dea148e6db894f2b9063a5a7065edb45",
       "version_major": 2,
       "version_minor": 0
      },
      "text/plain": [
       "Output()"
      ]
     },
     "metadata": {},
     "output_type": "display_data"
    },
    {
     "data": {
      "text/html": [
       "<pre style=\"white-space:pre;overflow-x:auto;line-height:normal;font-family:Menlo,'DejaVu Sans Mono',consolas,'Courier New',monospace\"></pre>\n"
      ],
      "text/plain": []
     },
     "metadata": {},
     "output_type": "display_data"
    },
    {
     "name": "stderr",
     "output_type": "stream",
     "text": [
      "Sampling: [Rainfall, mu, sigma, xi]\n"
     ]
    },
    {
     "name": "stdout",
     "output_type": "stream",
     "text": [
      "Processing Cwmystwyth\n"
     ]
    },
    {
     "name": "stderr",
     "output_type": "stream",
     "text": [
      "Initializing NUTS using jitter+adapt_diag...\n",
      "Multiprocess sampling (4 chains in 4 jobs)\n",
      "NUTS: [mu, sigma, xi]\n"
     ]
    },
    {
     "data": {
      "application/vnd.jupyter.widget-view+json": {
       "model_id": "f817aa055343466a99f1d6e5e8bce3e5",
       "version_major": 2,
       "version_minor": 0
      },
      "text/plain": [
       "Output()"
      ]
     },
     "metadata": {},
     "output_type": "display_data"
    },
    {
     "data": {
      "text/html": [
       "<pre style=\"white-space:pre;overflow-x:auto;line-height:normal;font-family:Menlo,'DejaVu Sans Mono',consolas,'Courier New',monospace\"></pre>\n"
      ],
      "text/plain": []
     },
     "metadata": {},
     "output_type": "display_data"
    },
    {
     "name": "stderr",
     "output_type": "stream",
     "text": [
      "Sampling 4 chains for 300 tune and 1_000 draw iterations (1_200 + 4_000 draws total) took 37 seconds.\n",
      "Sampling: [Rainfall]\n"
     ]
    },
    {
     "data": {
      "application/vnd.jupyter.widget-view+json": {
       "model_id": "692850c0bea6467985a8c5fa8d322879",
       "version_major": 2,
       "version_minor": 0
      },
      "text/plain": [
       "Output()"
      ]
     },
     "metadata": {},
     "output_type": "display_data"
    },
    {
     "data": {
      "text/html": [
       "<pre style=\"white-space:pre;overflow-x:auto;line-height:normal;font-family:Menlo,'DejaVu Sans Mono',consolas,'Courier New',monospace\"></pre>\n"
      ],
      "text/plain": []
     },
     "metadata": {},
     "output_type": "display_data"
    },
    {
     "name": "stderr",
     "output_type": "stream",
     "text": [
      "Sampling: []\n"
     ]
    },
    {
     "data": {
      "application/vnd.jupyter.widget-view+json": {
       "model_id": "164172c4594049bdba67d4c12efe2fc3",
       "version_major": 2,
       "version_minor": 0
      },
      "text/plain": [
       "Output()"
      ]
     },
     "metadata": {},
     "output_type": "display_data"
    },
    {
     "data": {
      "text/html": [
       "<pre style=\"white-space:pre;overflow-x:auto;line-height:normal;font-family:Menlo,'DejaVu Sans Mono',consolas,'Courier New',monospace\"></pre>\n"
      ],
      "text/plain": []
     },
     "metadata": {},
     "output_type": "display_data"
    },
    {
     "name": "stderr",
     "output_type": "stream",
     "text": [
      "Sampling: [Rainfall, mu, sigma, xi]\n"
     ]
    },
    {
     "name": "stdout",
     "output_type": "stream",
     "text": [
      "Processing Dunstaffnage\n"
     ]
    },
    {
     "name": "stderr",
     "output_type": "stream",
     "text": [
      "Initializing NUTS using jitter+adapt_diag...\n",
      "Multiprocess sampling (4 chains in 4 jobs)\n",
      "NUTS: [mu, sigma, xi]\n"
     ]
    },
    {
     "data": {
      "application/vnd.jupyter.widget-view+json": {
       "model_id": "00c253cf167d478c9475c468676dd825",
       "version_major": 2,
       "version_minor": 0
      },
      "text/plain": [
       "Output()"
      ]
     },
     "metadata": {},
     "output_type": "display_data"
    },
    {
     "data": {
      "text/html": [
       "<pre style=\"white-space:pre;overflow-x:auto;line-height:normal;font-family:Menlo,'DejaVu Sans Mono',consolas,'Courier New',monospace\"></pre>\n"
      ],
      "text/plain": []
     },
     "metadata": {},
     "output_type": "display_data"
    },
    {
     "name": "stderr",
     "output_type": "stream",
     "text": [
      "Sampling 4 chains for 300 tune and 1_000 draw iterations (1_200 + 4_000 draws total) took 38 seconds.\n",
      "Sampling: [Rainfall]\n"
     ]
    },
    {
     "data": {
      "application/vnd.jupyter.widget-view+json": {
       "model_id": "34e51898d5074961be61eb0629b1d686",
       "version_major": 2,
       "version_minor": 0
      },
      "text/plain": [
       "Output()"
      ]
     },
     "metadata": {},
     "output_type": "display_data"
    },
    {
     "data": {
      "text/html": [
       "<pre style=\"white-space:pre;overflow-x:auto;line-height:normal;font-family:Menlo,'DejaVu Sans Mono',consolas,'Courier New',monospace\"></pre>\n"
      ],
      "text/plain": []
     },
     "metadata": {},
     "output_type": "display_data"
    },
    {
     "name": "stderr",
     "output_type": "stream",
     "text": [
      "Sampling: []\n"
     ]
    },
    {
     "data": {
      "application/vnd.jupyter.widget-view+json": {
       "model_id": "9c8a195390ce451cb7ad0921f74f2e5f",
       "version_major": 2,
       "version_minor": 0
      },
      "text/plain": [
       "Output()"
      ]
     },
     "metadata": {},
     "output_type": "display_data"
    },
    {
     "data": {
      "text/html": [
       "<pre style=\"white-space:pre;overflow-x:auto;line-height:normal;font-family:Menlo,'DejaVu Sans Mono',consolas,'Courier New',monospace\"></pre>\n"
      ],
      "text/plain": []
     },
     "metadata": {},
     "output_type": "display_data"
    },
    {
     "name": "stderr",
     "output_type": "stream",
     "text": [
      "Sampling: [Rainfall, mu, sigma, xi]\n"
     ]
    },
    {
     "name": "stdout",
     "output_type": "stream",
     "text": [
      "Processing Durham\n"
     ]
    },
    {
     "name": "stderr",
     "output_type": "stream",
     "text": [
      "Initializing NUTS using jitter+adapt_diag...\n",
      "Multiprocess sampling (4 chains in 4 jobs)\n",
      "NUTS: [mu, sigma, xi]\n"
     ]
    },
    {
     "data": {
      "application/vnd.jupyter.widget-view+json": {
       "model_id": "8d68085b7cde4350b66d5c32f0e8b54d",
       "version_major": 2,
       "version_minor": 0
      },
      "text/plain": [
       "Output()"
      ]
     },
     "metadata": {},
     "output_type": "display_data"
    },
    {
     "data": {
      "text/html": [
       "<pre style=\"white-space:pre;overflow-x:auto;line-height:normal;font-family:Menlo,'DejaVu Sans Mono',consolas,'Courier New',monospace\"></pre>\n"
      ],
      "text/plain": []
     },
     "metadata": {},
     "output_type": "display_data"
    },
    {
     "name": "stderr",
     "output_type": "stream",
     "text": [
      "Sampling 4 chains for 300 tune and 1_000 draw iterations (1_200 + 4_000 draws total) took 43 seconds.\n",
      "Sampling: [Rainfall]\n"
     ]
    },
    {
     "data": {
      "application/vnd.jupyter.widget-view+json": {
       "model_id": "1a8e6cc8285646e38c71f280b4cf728b",
       "version_major": 2,
       "version_minor": 0
      },
      "text/plain": [
       "Output()"
      ]
     },
     "metadata": {},
     "output_type": "display_data"
    },
    {
     "data": {
      "text/html": [
       "<pre style=\"white-space:pre;overflow-x:auto;line-height:normal;font-family:Menlo,'DejaVu Sans Mono',consolas,'Courier New',monospace\"></pre>\n"
      ],
      "text/plain": []
     },
     "metadata": {},
     "output_type": "display_data"
    },
    {
     "name": "stderr",
     "output_type": "stream",
     "text": [
      "Sampling: []\n"
     ]
    },
    {
     "data": {
      "application/vnd.jupyter.widget-view+json": {
       "model_id": "477c307db20b4d1b831c95abaeb4846d",
       "version_major": 2,
       "version_minor": 0
      },
      "text/plain": [
       "Output()"
      ]
     },
     "metadata": {},
     "output_type": "display_data"
    },
    {
     "data": {
      "text/html": [
       "<pre style=\"white-space:pre;overflow-x:auto;line-height:normal;font-family:Menlo,'DejaVu Sans Mono',consolas,'Courier New',monospace\"></pre>\n"
      ],
      "text/plain": []
     },
     "metadata": {},
     "output_type": "display_data"
    },
    {
     "name": "stderr",
     "output_type": "stream",
     "text": [
      "Sampling: [Rainfall, mu, sigma, xi]\n"
     ]
    },
    {
     "name": "stdout",
     "output_type": "stream",
     "text": [
      "Processing Eastbourne\n"
     ]
    },
    {
     "name": "stderr",
     "output_type": "stream",
     "text": [
      "Initializing NUTS using jitter+adapt_diag...\n",
      "Multiprocess sampling (4 chains in 4 jobs)\n",
      "NUTS: [mu, sigma, xi]\n"
     ]
    },
    {
     "data": {
      "application/vnd.jupyter.widget-view+json": {
       "model_id": "39701ef4aa154191b1c0f161f14b525d",
       "version_major": 2,
       "version_minor": 0
      },
      "text/plain": [
       "Output()"
      ]
     },
     "metadata": {},
     "output_type": "display_data"
    },
    {
     "data": {
      "text/html": [
       "<pre style=\"white-space:pre;overflow-x:auto;line-height:normal;font-family:Menlo,'DejaVu Sans Mono',consolas,'Courier New',monospace\"></pre>\n"
      ],
      "text/plain": []
     },
     "metadata": {},
     "output_type": "display_data"
    },
    {
     "name": "stderr",
     "output_type": "stream",
     "text": [
      "Sampling 4 chains for 300 tune and 1_000 draw iterations (1_200 + 4_000 draws total) took 37 seconds.\n",
      "Sampling: [Rainfall]\n"
     ]
    },
    {
     "data": {
      "application/vnd.jupyter.widget-view+json": {
       "model_id": "c9670f9f81044492956ea7f01f344b5d",
       "version_major": 2,
       "version_minor": 0
      },
      "text/plain": [
       "Output()"
      ]
     },
     "metadata": {},
     "output_type": "display_data"
    },
    {
     "data": {
      "text/html": [
       "<pre style=\"white-space:pre;overflow-x:auto;line-height:normal;font-family:Menlo,'DejaVu Sans Mono',consolas,'Courier New',monospace\"></pre>\n"
      ],
      "text/plain": []
     },
     "metadata": {},
     "output_type": "display_data"
    },
    {
     "name": "stderr",
     "output_type": "stream",
     "text": [
      "Sampling: []\n"
     ]
    },
    {
     "data": {
      "application/vnd.jupyter.widget-view+json": {
       "model_id": "da27017bb9e641458aa7f47094cec856",
       "version_major": 2,
       "version_minor": 0
      },
      "text/plain": [
       "Output()"
      ]
     },
     "metadata": {},
     "output_type": "display_data"
    },
    {
     "data": {
      "text/html": [
       "<pre style=\"white-space:pre;overflow-x:auto;line-height:normal;font-family:Menlo,'DejaVu Sans Mono',consolas,'Courier New',monospace\"></pre>\n"
      ],
      "text/plain": []
     },
     "metadata": {},
     "output_type": "display_data"
    },
    {
     "name": "stderr",
     "output_type": "stream",
     "text": [
      "Sampling: [Rainfall, mu, sigma, xi]\n"
     ]
    },
    {
     "name": "stdout",
     "output_type": "stream",
     "text": [
      "Processing Eskdalemuir\n"
     ]
    },
    {
     "name": "stderr",
     "output_type": "stream",
     "text": [
      "Initializing NUTS using jitter+adapt_diag...\n",
      "Multiprocess sampling (4 chains in 4 jobs)\n",
      "NUTS: [mu, sigma, xi]\n"
     ]
    },
    {
     "data": {
      "application/vnd.jupyter.widget-view+json": {
       "model_id": "b6054cdb36204cc9be3445d71f53e351",
       "version_major": 2,
       "version_minor": 0
      },
      "text/plain": [
       "Output()"
      ]
     },
     "metadata": {},
     "output_type": "display_data"
    },
    {
     "data": {
      "text/html": [
       "<pre style=\"white-space:pre;overflow-x:auto;line-height:normal;font-family:Menlo,'DejaVu Sans Mono',consolas,'Courier New',monospace\"></pre>\n"
      ],
      "text/plain": []
     },
     "metadata": {},
     "output_type": "display_data"
    },
    {
     "name": "stderr",
     "output_type": "stream",
     "text": [
      "Sampling 4 chains for 300 tune and 1_000 draw iterations (1_200 + 4_000 draws total) took 40 seconds.\n",
      "Sampling: [Rainfall]\n"
     ]
    },
    {
     "data": {
      "application/vnd.jupyter.widget-view+json": {
       "model_id": "263c73efe6014d07a9faa61f007a9fbf",
       "version_major": 2,
       "version_minor": 0
      },
      "text/plain": [
       "Output()"
      ]
     },
     "metadata": {},
     "output_type": "display_data"
    },
    {
     "data": {
      "text/html": [
       "<pre style=\"white-space:pre;overflow-x:auto;line-height:normal;font-family:Menlo,'DejaVu Sans Mono',consolas,'Courier New',monospace\"></pre>\n"
      ],
      "text/plain": []
     },
     "metadata": {},
     "output_type": "display_data"
    },
    {
     "name": "stderr",
     "output_type": "stream",
     "text": [
      "Sampling: []\n"
     ]
    },
    {
     "data": {
      "application/vnd.jupyter.widget-view+json": {
       "model_id": "7cfc6cf7622e4484a87d2b92f1d01be0",
       "version_major": 2,
       "version_minor": 0
      },
      "text/plain": [
       "Output()"
      ]
     },
     "metadata": {},
     "output_type": "display_data"
    },
    {
     "data": {
      "text/html": [
       "<pre style=\"white-space:pre;overflow-x:auto;line-height:normal;font-family:Menlo,'DejaVu Sans Mono',consolas,'Courier New',monospace\"></pre>\n"
      ],
      "text/plain": []
     },
     "metadata": {},
     "output_type": "display_data"
    },
    {
     "name": "stderr",
     "output_type": "stream",
     "text": [
      "Sampling: [Rainfall, mu, sigma, xi]\n"
     ]
    },
    {
     "name": "stdout",
     "output_type": "stream",
     "text": [
      "Processing Heathrow\n"
     ]
    },
    {
     "name": "stderr",
     "output_type": "stream",
     "text": [
      "Initializing NUTS using jitter+adapt_diag...\n",
      "Multiprocess sampling (4 chains in 4 jobs)\n",
      "NUTS: [mu, sigma, xi]\n"
     ]
    },
    {
     "data": {
      "application/vnd.jupyter.widget-view+json": {
       "model_id": "2255459a95fd4f7281126930fa45d86e",
       "version_major": 2,
       "version_minor": 0
      },
      "text/plain": [
       "Output()"
      ]
     },
     "metadata": {},
     "output_type": "display_data"
    },
    {
     "data": {
      "text/html": [
       "<pre style=\"white-space:pre;overflow-x:auto;line-height:normal;font-family:Menlo,'DejaVu Sans Mono',consolas,'Courier New',monospace\"></pre>\n"
      ],
      "text/plain": []
     },
     "metadata": {},
     "output_type": "display_data"
    },
    {
     "name": "stderr",
     "output_type": "stream",
     "text": [
      "Sampling 4 chains for 300 tune and 1_000 draw iterations (1_200 + 4_000 draws total) took 42 seconds.\n",
      "Sampling: [Rainfall]\n"
     ]
    },
    {
     "data": {
      "application/vnd.jupyter.widget-view+json": {
       "model_id": "29a29b341a7a42cba32cb6b9c8b50d42",
       "version_major": 2,
       "version_minor": 0
      },
      "text/plain": [
       "Output()"
      ]
     },
     "metadata": {},
     "output_type": "display_data"
    },
    {
     "data": {
      "text/html": [
       "<pre style=\"white-space:pre;overflow-x:auto;line-height:normal;font-family:Menlo,'DejaVu Sans Mono',consolas,'Courier New',monospace\"></pre>\n"
      ],
      "text/plain": []
     },
     "metadata": {},
     "output_type": "display_data"
    },
    {
     "name": "stderr",
     "output_type": "stream",
     "text": [
      "Sampling: []\n"
     ]
    },
    {
     "data": {
      "application/vnd.jupyter.widget-view+json": {
       "model_id": "96562856fc2542e0bca212c9219b5135",
       "version_major": 2,
       "version_minor": 0
      },
      "text/plain": [
       "Output()"
      ]
     },
     "metadata": {},
     "output_type": "display_data"
    },
    {
     "data": {
      "text/html": [
       "<pre style=\"white-space:pre;overflow-x:auto;line-height:normal;font-family:Menlo,'DejaVu Sans Mono',consolas,'Courier New',monospace\"></pre>\n"
      ],
      "text/plain": []
     },
     "metadata": {},
     "output_type": "display_data"
    },
    {
     "name": "stderr",
     "output_type": "stream",
     "text": [
      "Sampling: [Rainfall, mu, sigma, xi]\n"
     ]
    },
    {
     "name": "stdout",
     "output_type": "stream",
     "text": [
      "Processing Hurn\n"
     ]
    },
    {
     "name": "stderr",
     "output_type": "stream",
     "text": [
      "Initializing NUTS using jitter+adapt_diag...\n",
      "Multiprocess sampling (4 chains in 4 jobs)\n",
      "NUTS: [mu, sigma, xi]\n"
     ]
    },
    {
     "data": {
      "application/vnd.jupyter.widget-view+json": {
       "model_id": "4ce2e0d6a654483bbf25e58b7a79120d",
       "version_major": 2,
       "version_minor": 0
      },
      "text/plain": [
       "Output()"
      ]
     },
     "metadata": {},
     "output_type": "display_data"
    },
    {
     "data": {
      "text/html": [
       "<pre style=\"white-space:pre;overflow-x:auto;line-height:normal;font-family:Menlo,'DejaVu Sans Mono',consolas,'Courier New',monospace\"></pre>\n"
      ],
      "text/plain": []
     },
     "metadata": {},
     "output_type": "display_data"
    },
    {
     "name": "stderr",
     "output_type": "stream",
     "text": [
      "Sampling 4 chains for 300 tune and 1_000 draw iterations (1_200 + 4_000 draws total) took 38 seconds.\n",
      "Sampling: [Rainfall]\n"
     ]
    },
    {
     "data": {
      "application/vnd.jupyter.widget-view+json": {
       "model_id": "f3f638d226974465b89eefc4c81a6dd0",
       "version_major": 2,
       "version_minor": 0
      },
      "text/plain": [
       "Output()"
      ]
     },
     "metadata": {},
     "output_type": "display_data"
    },
    {
     "data": {
      "text/html": [
       "<pre style=\"white-space:pre;overflow-x:auto;line-height:normal;font-family:Menlo,'DejaVu Sans Mono',consolas,'Courier New',monospace\"></pre>\n"
      ],
      "text/plain": []
     },
     "metadata": {},
     "output_type": "display_data"
    },
    {
     "name": "stderr",
     "output_type": "stream",
     "text": [
      "Sampling: []\n"
     ]
    },
    {
     "data": {
      "application/vnd.jupyter.widget-view+json": {
       "model_id": "5e10e53b8cc6404a932c6a6f19e14498",
       "version_major": 2,
       "version_minor": 0
      },
      "text/plain": [
       "Output()"
      ]
     },
     "metadata": {},
     "output_type": "display_data"
    },
    {
     "data": {
      "text/html": [
       "<pre style=\"white-space:pre;overflow-x:auto;line-height:normal;font-family:Menlo,'DejaVu Sans Mono',consolas,'Courier New',monospace\"></pre>\n"
      ],
      "text/plain": []
     },
     "metadata": {},
     "output_type": "display_data"
    },
    {
     "name": "stderr",
     "output_type": "stream",
     "text": [
      "Sampling: [Rainfall, mu, sigma, xi]\n"
     ]
    },
    {
     "name": "stdout",
     "output_type": "stream",
     "text": [
      "Processing Lerwick\n"
     ]
    },
    {
     "name": "stderr",
     "output_type": "stream",
     "text": [
      "Initializing NUTS using jitter+adapt_diag...\n",
      "Multiprocess sampling (4 chains in 4 jobs)\n",
      "NUTS: [mu, sigma, xi]\n"
     ]
    },
    {
     "data": {
      "application/vnd.jupyter.widget-view+json": {
       "model_id": "80bc15041af5490d99b8127c65667933",
       "version_major": 2,
       "version_minor": 0
      },
      "text/plain": [
       "Output()"
      ]
     },
     "metadata": {},
     "output_type": "display_data"
    },
    {
     "data": {
      "text/html": [
       "<pre style=\"white-space:pre;overflow-x:auto;line-height:normal;font-family:Menlo,'DejaVu Sans Mono',consolas,'Courier New',monospace\"></pre>\n"
      ],
      "text/plain": []
     },
     "metadata": {},
     "output_type": "display_data"
    },
    {
     "name": "stderr",
     "output_type": "stream",
     "text": [
      "Sampling 4 chains for 300 tune and 1_000 draw iterations (1_200 + 4_000 draws total) took 39 seconds.\n",
      "Sampling: [Rainfall]\n"
     ]
    },
    {
     "data": {
      "application/vnd.jupyter.widget-view+json": {
       "model_id": "5b6ed47b0f444520bec661d25c5141df",
       "version_major": 2,
       "version_minor": 0
      },
      "text/plain": [
       "Output()"
      ]
     },
     "metadata": {},
     "output_type": "display_data"
    },
    {
     "data": {
      "text/html": [
       "<pre style=\"white-space:pre;overflow-x:auto;line-height:normal;font-family:Menlo,'DejaVu Sans Mono',consolas,'Courier New',monospace\"></pre>\n"
      ],
      "text/plain": []
     },
     "metadata": {},
     "output_type": "display_data"
    },
    {
     "name": "stderr",
     "output_type": "stream",
     "text": [
      "Sampling: []\n"
     ]
    },
    {
     "data": {
      "application/vnd.jupyter.widget-view+json": {
       "model_id": "118926786e364ca6b5739ebc181e4fc7",
       "version_major": 2,
       "version_minor": 0
      },
      "text/plain": [
       "Output()"
      ]
     },
     "metadata": {},
     "output_type": "display_data"
    },
    {
     "data": {
      "text/html": [
       "<pre style=\"white-space:pre;overflow-x:auto;line-height:normal;font-family:Menlo,'DejaVu Sans Mono',consolas,'Courier New',monospace\"></pre>\n"
      ],
      "text/plain": []
     },
     "metadata": {},
     "output_type": "display_data"
    },
    {
     "name": "stderr",
     "output_type": "stream",
     "text": [
      "Sampling: [Rainfall, mu, sigma, xi]\n"
     ]
    },
    {
     "name": "stdout",
     "output_type": "stream",
     "text": [
      "Processing Leuchars\n"
     ]
    },
    {
     "name": "stderr",
     "output_type": "stream",
     "text": [
      "Initializing NUTS using jitter+adapt_diag...\n",
      "Multiprocess sampling (4 chains in 4 jobs)\n",
      "NUTS: [mu, sigma, xi]\n"
     ]
    },
    {
     "data": {
      "application/vnd.jupyter.widget-view+json": {
       "model_id": "fecec1d91577437b8bfa9d539b0097bb",
       "version_major": 2,
       "version_minor": 0
      },
      "text/plain": [
       "Output()"
      ]
     },
     "metadata": {},
     "output_type": "display_data"
    },
    {
     "data": {
      "text/html": [
       "<pre style=\"white-space:pre;overflow-x:auto;line-height:normal;font-family:Menlo,'DejaVu Sans Mono',consolas,'Courier New',monospace\"></pre>\n"
      ],
      "text/plain": []
     },
     "metadata": {},
     "output_type": "display_data"
    },
    {
     "name": "stderr",
     "output_type": "stream",
     "text": [
      "Sampling 4 chains for 300 tune and 1_000 draw iterations (1_200 + 4_000 draws total) took 36 seconds.\n",
      "Sampling: [Rainfall]\n"
     ]
    },
    {
     "data": {
      "application/vnd.jupyter.widget-view+json": {
       "model_id": "799baa79bcdf4c5986212c97625cdce3",
       "version_major": 2,
       "version_minor": 0
      },
      "text/plain": [
       "Output()"
      ]
     },
     "metadata": {},
     "output_type": "display_data"
    },
    {
     "data": {
      "text/html": [
       "<pre style=\"white-space:pre;overflow-x:auto;line-height:normal;font-family:Menlo,'DejaVu Sans Mono',consolas,'Courier New',monospace\"></pre>\n"
      ],
      "text/plain": []
     },
     "metadata": {},
     "output_type": "display_data"
    },
    {
     "name": "stderr",
     "output_type": "stream",
     "text": [
      "Sampling: []\n"
     ]
    },
    {
     "data": {
      "application/vnd.jupyter.widget-view+json": {
       "model_id": "18e4851a0e7143608c44e660181c4f7f",
       "version_major": 2,
       "version_minor": 0
      },
      "text/plain": [
       "Output()"
      ]
     },
     "metadata": {},
     "output_type": "display_data"
    },
    {
     "data": {
      "text/html": [
       "<pre style=\"white-space:pre;overflow-x:auto;line-height:normal;font-family:Menlo,'DejaVu Sans Mono',consolas,'Courier New',monospace\"></pre>\n"
      ],
      "text/plain": []
     },
     "metadata": {},
     "output_type": "display_data"
    },
    {
     "name": "stderr",
     "output_type": "stream",
     "text": [
      "Sampling: [Rainfall, mu, sigma, xi]\n"
     ]
    },
    {
     "name": "stdout",
     "output_type": "stream",
     "text": [
      "Processing Lowestoft Monckton Avenue\n"
     ]
    },
    {
     "name": "stderr",
     "output_type": "stream",
     "text": [
      "Initializing NUTS using jitter+adapt_diag...\n",
      "Multiprocess sampling (4 chains in 4 jobs)\n",
      "NUTS: [mu, sigma, xi]\n"
     ]
    },
    {
     "data": {
      "application/vnd.jupyter.widget-view+json": {
       "model_id": "c9638f86dfc84894aebdb9ec3711bd6a",
       "version_major": 2,
       "version_minor": 0
      },
      "text/plain": [
       "Output()"
      ]
     },
     "metadata": {},
     "output_type": "display_data"
    },
    {
     "data": {
      "text/html": [
       "<pre style=\"white-space:pre;overflow-x:auto;line-height:normal;font-family:Menlo,'DejaVu Sans Mono',consolas,'Courier New',monospace\"></pre>\n"
      ],
      "text/plain": []
     },
     "metadata": {},
     "output_type": "display_data"
    },
    {
     "name": "stderr",
     "output_type": "stream",
     "text": [
      "Sampling 4 chains for 300 tune and 1_000 draw iterations (1_200 + 4_000 draws total) took 41 seconds.\n",
      "Sampling: [Rainfall]\n"
     ]
    },
    {
     "data": {
      "application/vnd.jupyter.widget-view+json": {
       "model_id": "e97e22e574004a0e96f54cff498323cf",
       "version_major": 2,
       "version_minor": 0
      },
      "text/plain": [
       "Output()"
      ]
     },
     "metadata": {},
     "output_type": "display_data"
    },
    {
     "data": {
      "text/html": [
       "<pre style=\"white-space:pre;overflow-x:auto;line-height:normal;font-family:Menlo,'DejaVu Sans Mono',consolas,'Courier New',monospace\"></pre>\n"
      ],
      "text/plain": []
     },
     "metadata": {},
     "output_type": "display_data"
    },
    {
     "name": "stderr",
     "output_type": "stream",
     "text": [
      "Sampling: []\n"
     ]
    },
    {
     "data": {
      "application/vnd.jupyter.widget-view+json": {
       "model_id": "54297e2257af42c6840bf1610c6f2333",
       "version_major": 2,
       "version_minor": 0
      },
      "text/plain": [
       "Output()"
      ]
     },
     "metadata": {},
     "output_type": "display_data"
    },
    {
     "data": {
      "text/html": [
       "<pre style=\"white-space:pre;overflow-x:auto;line-height:normal;font-family:Menlo,'DejaVu Sans Mono',consolas,'Courier New',monospace\"></pre>\n"
      ],
      "text/plain": []
     },
     "metadata": {},
     "output_type": "display_data"
    },
    {
     "name": "stderr",
     "output_type": "stream",
     "text": [
      "Sampling: [Rainfall, mu, sigma, xi]\n"
     ]
    },
    {
     "name": "stdout",
     "output_type": "stream",
     "text": [
      "Processing Manston\n"
     ]
    },
    {
     "name": "stderr",
     "output_type": "stream",
     "text": [
      "Initializing NUTS using jitter+adapt_diag...\n",
      "Multiprocess sampling (4 chains in 4 jobs)\n",
      "NUTS: [mu, sigma, xi]\n"
     ]
    },
    {
     "data": {
      "application/vnd.jupyter.widget-view+json": {
       "model_id": "639a925c77974670ac9e2de54c086a0a",
       "version_major": 2,
       "version_minor": 0
      },
      "text/plain": [
       "Output()"
      ]
     },
     "metadata": {},
     "output_type": "display_data"
    },
    {
     "data": {
      "text/html": [
       "<pre style=\"white-space:pre;overflow-x:auto;line-height:normal;font-family:Menlo,'DejaVu Sans Mono',consolas,'Courier New',monospace\"></pre>\n"
      ],
      "text/plain": []
     },
     "metadata": {},
     "output_type": "display_data"
    },
    {
     "name": "stderr",
     "output_type": "stream",
     "text": [
      "Sampling 4 chains for 300 tune and 1_000 draw iterations (1_200 + 4_000 draws total) took 38 seconds.\n",
      "Sampling: [Rainfall]\n"
     ]
    },
    {
     "data": {
      "application/vnd.jupyter.widget-view+json": {
       "model_id": "d9ed4f067df84f73a4e00f9416ad0502",
       "version_major": 2,
       "version_minor": 0
      },
      "text/plain": [
       "Output()"
      ]
     },
     "metadata": {},
     "output_type": "display_data"
    },
    {
     "data": {
      "text/html": [
       "<pre style=\"white-space:pre;overflow-x:auto;line-height:normal;font-family:Menlo,'DejaVu Sans Mono',consolas,'Courier New',monospace\"></pre>\n"
      ],
      "text/plain": []
     },
     "metadata": {},
     "output_type": "display_data"
    },
    {
     "name": "stderr",
     "output_type": "stream",
     "text": [
      "Sampling: []\n"
     ]
    },
    {
     "data": {
      "application/vnd.jupyter.widget-view+json": {
       "model_id": "3fa84f8444c44ffb8a65819e2e53d556",
       "version_major": 2,
       "version_minor": 0
      },
      "text/plain": [
       "Output()"
      ]
     },
     "metadata": {},
     "output_type": "display_data"
    },
    {
     "data": {
      "text/html": [
       "<pre style=\"white-space:pre;overflow-x:auto;line-height:normal;font-family:Menlo,'DejaVu Sans Mono',consolas,'Courier New',monospace\"></pre>\n"
      ],
      "text/plain": []
     },
     "metadata": {},
     "output_type": "display_data"
    },
    {
     "name": "stderr",
     "output_type": "stream",
     "text": [
      "Sampling: [Rainfall, mu, sigma, xi]\n"
     ]
    },
    {
     "name": "stdout",
     "output_type": "stream",
     "text": [
      "Processing Nairn Druim\n"
     ]
    },
    {
     "name": "stderr",
     "output_type": "stream",
     "text": [
      "Initializing NUTS using jitter+adapt_diag...\n",
      "Multiprocess sampling (4 chains in 4 jobs)\n",
      "NUTS: [mu, sigma, xi]\n"
     ]
    },
    {
     "data": {
      "application/vnd.jupyter.widget-view+json": {
       "model_id": "2367c2adfab74dba81efb0e45d640c3d",
       "version_major": 2,
       "version_minor": 0
      },
      "text/plain": [
       "Output()"
      ]
     },
     "metadata": {},
     "output_type": "display_data"
    },
    {
     "data": {
      "text/html": [
       "<pre style=\"white-space:pre;overflow-x:auto;line-height:normal;font-family:Menlo,'DejaVu Sans Mono',consolas,'Courier New',monospace\"></pre>\n"
      ],
      "text/plain": []
     },
     "metadata": {},
     "output_type": "display_data"
    },
    {
     "name": "stderr",
     "output_type": "stream",
     "text": [
      "Sampling 4 chains for 300 tune and 1_000 draw iterations (1_200 + 4_000 draws total) took 36 seconds.\n",
      "Sampling: [Rainfall]\n"
     ]
    },
    {
     "data": {
      "application/vnd.jupyter.widget-view+json": {
       "model_id": "e83f46a6e9374b7b9ccfd3f70e373e75",
       "version_major": 2,
       "version_minor": 0
      },
      "text/plain": [
       "Output()"
      ]
     },
     "metadata": {},
     "output_type": "display_data"
    },
    {
     "data": {
      "text/html": [
       "<pre style=\"white-space:pre;overflow-x:auto;line-height:normal;font-family:Menlo,'DejaVu Sans Mono',consolas,'Courier New',monospace\"></pre>\n"
      ],
      "text/plain": []
     },
     "metadata": {},
     "output_type": "display_data"
    },
    {
     "name": "stderr",
     "output_type": "stream",
     "text": [
      "Sampling: []\n"
     ]
    },
    {
     "data": {
      "application/vnd.jupyter.widget-view+json": {
       "model_id": "9655851b5e394f4bb2311bb065a04d66",
       "version_major": 2,
       "version_minor": 0
      },
      "text/plain": [
       "Output()"
      ]
     },
     "metadata": {},
     "output_type": "display_data"
    },
    {
     "data": {
      "text/html": [
       "<pre style=\"white-space:pre;overflow-x:auto;line-height:normal;font-family:Menlo,'DejaVu Sans Mono',consolas,'Courier New',monospace\"></pre>\n"
      ],
      "text/plain": []
     },
     "metadata": {},
     "output_type": "display_data"
    },
    {
     "name": "stderr",
     "output_type": "stream",
     "text": [
      "Sampling: [Rainfall, mu, sigma, xi]\n"
     ]
    },
    {
     "name": "stdout",
     "output_type": "stream",
     "text": [
      "Processing Newton Rigg\n"
     ]
    },
    {
     "name": "stderr",
     "output_type": "stream",
     "text": [
      "Initializing NUTS using jitter+adapt_diag...\n",
      "Multiprocess sampling (4 chains in 4 jobs)\n",
      "NUTS: [mu, sigma, xi]\n"
     ]
    },
    {
     "data": {
      "application/vnd.jupyter.widget-view+json": {
       "model_id": "d879011c3da242a9a7acf5fd82c5cca9",
       "version_major": 2,
       "version_minor": 0
      },
      "text/plain": [
       "Output()"
      ]
     },
     "metadata": {},
     "output_type": "display_data"
    },
    {
     "data": {
      "text/html": [
       "<pre style=\"white-space:pre;overflow-x:auto;line-height:normal;font-family:Menlo,'DejaVu Sans Mono',consolas,'Courier New',monospace\"></pre>\n"
      ],
      "text/plain": []
     },
     "metadata": {},
     "output_type": "display_data"
    },
    {
     "name": "stderr",
     "output_type": "stream",
     "text": [
      "Sampling 4 chains for 300 tune and 1_000 draw iterations (1_200 + 4_000 draws total) took 40 seconds.\n",
      "Sampling: [Rainfall]\n"
     ]
    },
    {
     "data": {
      "application/vnd.jupyter.widget-view+json": {
       "model_id": "129e014d0cc84f209b011cfc3979b155",
       "version_major": 2,
       "version_minor": 0
      },
      "text/plain": [
       "Output()"
      ]
     },
     "metadata": {},
     "output_type": "display_data"
    },
    {
     "data": {
      "text/html": [
       "<pre style=\"white-space:pre;overflow-x:auto;line-height:normal;font-family:Menlo,'DejaVu Sans Mono',consolas,'Courier New',monospace\"></pre>\n"
      ],
      "text/plain": []
     },
     "metadata": {},
     "output_type": "display_data"
    },
    {
     "name": "stderr",
     "output_type": "stream",
     "text": [
      "Sampling: []\n"
     ]
    },
    {
     "data": {
      "application/vnd.jupyter.widget-view+json": {
       "model_id": "53f6909de31d4c13adc50a09f3a5a475",
       "version_major": 2,
       "version_minor": 0
      },
      "text/plain": [
       "Output()"
      ]
     },
     "metadata": {},
     "output_type": "display_data"
    },
    {
     "data": {
      "text/html": [
       "<pre style=\"white-space:pre;overflow-x:auto;line-height:normal;font-family:Menlo,'DejaVu Sans Mono',consolas,'Courier New',monospace\"></pre>\n"
      ],
      "text/plain": []
     },
     "metadata": {},
     "output_type": "display_data"
    },
    {
     "name": "stderr",
     "output_type": "stream",
     "text": [
      "Sampling: [Rainfall, mu, sigma, xi]\n"
     ]
    },
    {
     "name": "stdout",
     "output_type": "stream",
     "text": [
      "Processing Oxford\n"
     ]
    },
    {
     "name": "stderr",
     "output_type": "stream",
     "text": [
      "Initializing NUTS using jitter+adapt_diag...\n",
      "Multiprocess sampling (4 chains in 4 jobs)\n",
      "NUTS: [mu, sigma, xi]\n"
     ]
    },
    {
     "data": {
      "application/vnd.jupyter.widget-view+json": {
       "model_id": "46b39ea1001d423caa298d7c38051266",
       "version_major": 2,
       "version_minor": 0
      },
      "text/plain": [
       "Output()"
      ]
     },
     "metadata": {},
     "output_type": "display_data"
    },
    {
     "data": {
      "text/html": [
       "<pre style=\"white-space:pre;overflow-x:auto;line-height:normal;font-family:Menlo,'DejaVu Sans Mono',consolas,'Courier New',monospace\"></pre>\n"
      ],
      "text/plain": []
     },
     "metadata": {},
     "output_type": "display_data"
    },
    {
     "name": "stderr",
     "output_type": "stream",
     "text": [
      "Sampling 4 chains for 300 tune and 1_000 draw iterations (1_200 + 4_000 draws total) took 41 seconds.\n",
      "Sampling: [Rainfall]\n"
     ]
    },
    {
     "data": {
      "application/vnd.jupyter.widget-view+json": {
       "model_id": "bf64fe3df9794f14b55d821765260c17",
       "version_major": 2,
       "version_minor": 0
      },
      "text/plain": [
       "Output()"
      ]
     },
     "metadata": {},
     "output_type": "display_data"
    },
    {
     "data": {
      "text/html": [
       "<pre style=\"white-space:pre;overflow-x:auto;line-height:normal;font-family:Menlo,'DejaVu Sans Mono',consolas,'Courier New',monospace\"></pre>\n"
      ],
      "text/plain": []
     },
     "metadata": {},
     "output_type": "display_data"
    },
    {
     "name": "stderr",
     "output_type": "stream",
     "text": [
      "Sampling: []\n"
     ]
    },
    {
     "data": {
      "application/vnd.jupyter.widget-view+json": {
       "model_id": "3deeee128a284455afc9cddbc275a481",
       "version_major": 2,
       "version_minor": 0
      },
      "text/plain": [
       "Output()"
      ]
     },
     "metadata": {},
     "output_type": "display_data"
    },
    {
     "data": {
      "text/html": [
       "<pre style=\"white-space:pre;overflow-x:auto;line-height:normal;font-family:Menlo,'DejaVu Sans Mono',consolas,'Courier New',monospace\"></pre>\n"
      ],
      "text/plain": []
     },
     "metadata": {},
     "output_type": "display_data"
    },
    {
     "name": "stderr",
     "output_type": "stream",
     "text": [
      "Sampling: [Rainfall, mu, sigma, xi]\n"
     ]
    },
    {
     "name": "stdout",
     "output_type": "stream",
     "text": [
      "Processing Paisley\n"
     ]
    },
    {
     "name": "stderr",
     "output_type": "stream",
     "text": [
      "Initializing NUTS using jitter+adapt_diag...\n",
      "Multiprocess sampling (4 chains in 4 jobs)\n",
      "NUTS: [mu, sigma, xi]\n"
     ]
    },
    {
     "data": {
      "application/vnd.jupyter.widget-view+json": {
       "model_id": "314d8fde7b6b40b0a2b572d152839713",
       "version_major": 2,
       "version_minor": 0
      },
      "text/plain": [
       "Output()"
      ]
     },
     "metadata": {},
     "output_type": "display_data"
    },
    {
     "data": {
      "text/html": [
       "<pre style=\"white-space:pre;overflow-x:auto;line-height:normal;font-family:Menlo,'DejaVu Sans Mono',consolas,'Courier New',monospace\"></pre>\n"
      ],
      "text/plain": []
     },
     "metadata": {},
     "output_type": "display_data"
    },
    {
     "name": "stderr",
     "output_type": "stream",
     "text": [
      "Sampling 4 chains for 300 tune and 1_000 draw iterations (1_200 + 4_000 draws total) took 37 seconds.\n",
      "Sampling: [Rainfall]\n"
     ]
    },
    {
     "data": {
      "application/vnd.jupyter.widget-view+json": {
       "model_id": "3241deeb94714cda8d28c49ab134d539",
       "version_major": 2,
       "version_minor": 0
      },
      "text/plain": [
       "Output()"
      ]
     },
     "metadata": {},
     "output_type": "display_data"
    },
    {
     "data": {
      "text/html": [
       "<pre style=\"white-space:pre;overflow-x:auto;line-height:normal;font-family:Menlo,'DejaVu Sans Mono',consolas,'Courier New',monospace\"></pre>\n"
      ],
      "text/plain": []
     },
     "metadata": {},
     "output_type": "display_data"
    },
    {
     "name": "stderr",
     "output_type": "stream",
     "text": [
      "Sampling: []\n"
     ]
    },
    {
     "data": {
      "application/vnd.jupyter.widget-view+json": {
       "model_id": "a362f0c48f30456088a2e56d7738a547",
       "version_major": 2,
       "version_minor": 0
      },
      "text/plain": [
       "Output()"
      ]
     },
     "metadata": {},
     "output_type": "display_data"
    },
    {
     "data": {
      "text/html": [
       "<pre style=\"white-space:pre;overflow-x:auto;line-height:normal;font-family:Menlo,'DejaVu Sans Mono',consolas,'Courier New',monospace\"></pre>\n"
      ],
      "text/plain": []
     },
     "metadata": {},
     "output_type": "display_data"
    },
    {
     "name": "stderr",
     "output_type": "stream",
     "text": [
      "Sampling: [Rainfall, mu, sigma, xi]\n"
     ]
    },
    {
     "name": "stdout",
     "output_type": "stream",
     "text": [
      "Processing Ringway\n"
     ]
    },
    {
     "name": "stderr",
     "output_type": "stream",
     "text": [
      "Initializing NUTS using jitter+adapt_diag...\n",
      "Multiprocess sampling (4 chains in 4 jobs)\n",
      "NUTS: [mu, sigma, xi]\n"
     ]
    },
    {
     "data": {
      "application/vnd.jupyter.widget-view+json": {
       "model_id": "f8b592bb5f074ed483acd8d28507ab0b",
       "version_major": 2,
       "version_minor": 0
      },
      "text/plain": [
       "Output()"
      ]
     },
     "metadata": {},
     "output_type": "display_data"
    },
    {
     "data": {
      "text/html": [
       "<pre style=\"white-space:pre;overflow-x:auto;line-height:normal;font-family:Menlo,'DejaVu Sans Mono',consolas,'Courier New',monospace\"></pre>\n"
      ],
      "text/plain": []
     },
     "metadata": {},
     "output_type": "display_data"
    },
    {
     "name": "stderr",
     "output_type": "stream",
     "text": [
      "Sampling 4 chains for 300 tune and 1_000 draw iterations (1_200 + 4_000 draws total) took 36 seconds.\n",
      "Sampling: [Rainfall]\n"
     ]
    },
    {
     "data": {
      "application/vnd.jupyter.widget-view+json": {
       "model_id": "6e52c6df8f7f435b948f43f14f4f9235",
       "version_major": 2,
       "version_minor": 0
      },
      "text/plain": [
       "Output()"
      ]
     },
     "metadata": {},
     "output_type": "display_data"
    },
    {
     "data": {
      "text/html": [
       "<pre style=\"white-space:pre;overflow-x:auto;line-height:normal;font-family:Menlo,'DejaVu Sans Mono',consolas,'Courier New',monospace\"></pre>\n"
      ],
      "text/plain": []
     },
     "metadata": {},
     "output_type": "display_data"
    },
    {
     "name": "stderr",
     "output_type": "stream",
     "text": [
      "Sampling: []\n"
     ]
    },
    {
     "data": {
      "application/vnd.jupyter.widget-view+json": {
       "model_id": "a7652cf56ac1423289920392923f931d",
       "version_major": 2,
       "version_minor": 0
      },
      "text/plain": [
       "Output()"
      ]
     },
     "metadata": {},
     "output_type": "display_data"
    },
    {
     "data": {
      "text/html": [
       "<pre style=\"white-space:pre;overflow-x:auto;line-height:normal;font-family:Menlo,'DejaVu Sans Mono',consolas,'Courier New',monospace\"></pre>\n"
      ],
      "text/plain": []
     },
     "metadata": {},
     "output_type": "display_data"
    },
    {
     "name": "stderr",
     "output_type": "stream",
     "text": [
      "Sampling: [Rainfall, mu, sigma, xi]\n"
     ]
    },
    {
     "name": "stdout",
     "output_type": "stream",
     "text": [
      "Processing Ross-on-wye\n"
     ]
    },
    {
     "name": "stderr",
     "output_type": "stream",
     "text": [
      "Initializing NUTS using jitter+adapt_diag...\n",
      "Multiprocess sampling (4 chains in 4 jobs)\n",
      "NUTS: [mu, sigma, xi]\n"
     ]
    },
    {
     "data": {
      "application/vnd.jupyter.widget-view+json": {
       "model_id": "834032cb0057473191d95b20d080ebb0",
       "version_major": 2,
       "version_minor": 0
      },
      "text/plain": [
       "Output()"
      ]
     },
     "metadata": {},
     "output_type": "display_data"
    },
    {
     "data": {
      "text/html": [
       "<pre style=\"white-space:pre;overflow-x:auto;line-height:normal;font-family:Menlo,'DejaVu Sans Mono',consolas,'Courier New',monospace\"></pre>\n"
      ],
      "text/plain": []
     },
     "metadata": {},
     "output_type": "display_data"
    },
    {
     "name": "stderr",
     "output_type": "stream",
     "text": [
      "Sampling 4 chains for 300 tune and 1_000 draw iterations (1_200 + 4_000 draws total) took 37 seconds.\n",
      "Sampling: [Rainfall]\n"
     ]
    },
    {
     "data": {
      "application/vnd.jupyter.widget-view+json": {
       "model_id": "85f6c970525d42a597403d5ec14c9460",
       "version_major": 2,
       "version_minor": 0
      },
      "text/plain": [
       "Output()"
      ]
     },
     "metadata": {},
     "output_type": "display_data"
    },
    {
     "data": {
      "text/html": [
       "<pre style=\"white-space:pre;overflow-x:auto;line-height:normal;font-family:Menlo,'DejaVu Sans Mono',consolas,'Courier New',monospace\"></pre>\n"
      ],
      "text/plain": []
     },
     "metadata": {},
     "output_type": "display_data"
    },
    {
     "name": "stderr",
     "output_type": "stream",
     "text": [
      "Sampling: []\n"
     ]
    },
    {
     "data": {
      "application/vnd.jupyter.widget-view+json": {
       "model_id": "604059ea89c048ba867b860488dd9c06",
       "version_major": 2,
       "version_minor": 0
      },
      "text/plain": [
       "Output()"
      ]
     },
     "metadata": {},
     "output_type": "display_data"
    },
    {
     "data": {
      "text/html": [
       "<pre style=\"white-space:pre;overflow-x:auto;line-height:normal;font-family:Menlo,'DejaVu Sans Mono',consolas,'Courier New',monospace\"></pre>\n"
      ],
      "text/plain": []
     },
     "metadata": {},
     "output_type": "display_data"
    },
    {
     "name": "stderr",
     "output_type": "stream",
     "text": [
      "Sampling: [Rainfall, mu, sigma, xi]\n"
     ]
    },
    {
     "name": "stdout",
     "output_type": "stream",
     "text": [
      "Processing Shawbury\n"
     ]
    },
    {
     "name": "stderr",
     "output_type": "stream",
     "text": [
      "Initializing NUTS using jitter+adapt_diag...\n",
      "Multiprocess sampling (4 chains in 4 jobs)\n",
      "NUTS: [mu, sigma, xi]\n"
     ]
    },
    {
     "data": {
      "application/vnd.jupyter.widget-view+json": {
       "model_id": "ce5fce8313a345818fa1d50147b6d4cc",
       "version_major": 2,
       "version_minor": 0
      },
      "text/plain": [
       "Output()"
      ]
     },
     "metadata": {},
     "output_type": "display_data"
    },
    {
     "data": {
      "text/html": [
       "<pre style=\"white-space:pre;overflow-x:auto;line-height:normal;font-family:Menlo,'DejaVu Sans Mono',consolas,'Courier New',monospace\"></pre>\n"
      ],
      "text/plain": []
     },
     "metadata": {},
     "output_type": "display_data"
    },
    {
     "name": "stderr",
     "output_type": "stream",
     "text": [
      "Sampling 4 chains for 300 tune and 1_000 draw iterations (1_200 + 4_000 draws total) took 37 seconds.\n",
      "Sampling: [Rainfall]\n"
     ]
    },
    {
     "data": {
      "application/vnd.jupyter.widget-view+json": {
       "model_id": "05ba79274593499faa9bda2c3e4f2516",
       "version_major": 2,
       "version_minor": 0
      },
      "text/plain": [
       "Output()"
      ]
     },
     "metadata": {},
     "output_type": "display_data"
    },
    {
     "data": {
      "text/html": [
       "<pre style=\"white-space:pre;overflow-x:auto;line-height:normal;font-family:Menlo,'DejaVu Sans Mono',consolas,'Courier New',monospace\"></pre>\n"
      ],
      "text/plain": []
     },
     "metadata": {},
     "output_type": "display_data"
    },
    {
     "name": "stderr",
     "output_type": "stream",
     "text": [
      "Sampling: []\n"
     ]
    },
    {
     "data": {
      "application/vnd.jupyter.widget-view+json": {
       "model_id": "e2bd2ca2ad844620bfa903570065ae4d",
       "version_major": 2,
       "version_minor": 0
      },
      "text/plain": [
       "Output()"
      ]
     },
     "metadata": {},
     "output_type": "display_data"
    },
    {
     "data": {
      "text/html": [
       "<pre style=\"white-space:pre;overflow-x:auto;line-height:normal;font-family:Menlo,'DejaVu Sans Mono',consolas,'Courier New',monospace\"></pre>\n"
      ],
      "text/plain": []
     },
     "metadata": {},
     "output_type": "display_data"
    },
    {
     "name": "stderr",
     "output_type": "stream",
     "text": [
      "Sampling: [Rainfall, mu, sigma, xi]\n"
     ]
    },
    {
     "name": "stdout",
     "output_type": "stream",
     "text": [
      "Processing Sheffield\n"
     ]
    },
    {
     "name": "stderr",
     "output_type": "stream",
     "text": [
      "Initializing NUTS using jitter+adapt_diag...\n",
      "Multiprocess sampling (4 chains in 4 jobs)\n",
      "NUTS: [mu, sigma, xi]\n"
     ]
    },
    {
     "data": {
      "application/vnd.jupyter.widget-view+json": {
       "model_id": "bbafc4f983774056b61534e65f0f5a88",
       "version_major": 2,
       "version_minor": 0
      },
      "text/plain": [
       "Output()"
      ]
     },
     "metadata": {},
     "output_type": "display_data"
    },
    {
     "data": {
      "text/html": [
       "<pre style=\"white-space:pre;overflow-x:auto;line-height:normal;font-family:Menlo,'DejaVu Sans Mono',consolas,'Courier New',monospace\"></pre>\n"
      ],
      "text/plain": []
     },
     "metadata": {},
     "output_type": "display_data"
    },
    {
     "name": "stderr",
     "output_type": "stream",
     "text": [
      "Sampling 4 chains for 300 tune and 1_000 draw iterations (1_200 + 4_000 draws total) took 44 seconds.\n",
      "Sampling: [Rainfall]\n"
     ]
    },
    {
     "data": {
      "application/vnd.jupyter.widget-view+json": {
       "model_id": "1866710c57a44dbf81d371661d49984f",
       "version_major": 2,
       "version_minor": 0
      },
      "text/plain": [
       "Output()"
      ]
     },
     "metadata": {},
     "output_type": "display_data"
    },
    {
     "data": {
      "text/html": [
       "<pre style=\"white-space:pre;overflow-x:auto;line-height:normal;font-family:Menlo,'DejaVu Sans Mono',consolas,'Courier New',monospace\"></pre>\n"
      ],
      "text/plain": []
     },
     "metadata": {},
     "output_type": "display_data"
    },
    {
     "name": "stderr",
     "output_type": "stream",
     "text": [
      "Sampling: []\n"
     ]
    },
    {
     "data": {
      "application/vnd.jupyter.widget-view+json": {
       "model_id": "5f37fa03e4e64512957c53c4010eb446",
       "version_major": 2,
       "version_minor": 0
      },
      "text/plain": [
       "Output()"
      ]
     },
     "metadata": {},
     "output_type": "display_data"
    },
    {
     "data": {
      "text/html": [
       "<pre style=\"white-space:pre;overflow-x:auto;line-height:normal;font-family:Menlo,'DejaVu Sans Mono',consolas,'Courier New',monospace\"></pre>\n"
      ],
      "text/plain": []
     },
     "metadata": {},
     "output_type": "display_data"
    },
    {
     "name": "stderr",
     "output_type": "stream",
     "text": [
      "Sampling: [Rainfall, mu, sigma, xi]\n"
     ]
    },
    {
     "name": "stdout",
     "output_type": "stream",
     "text": [
      "Processing Southampton Mayflower Park\n"
     ]
    },
    {
     "name": "stderr",
     "output_type": "stream",
     "text": [
      "Initializing NUTS using jitter+adapt_diag...\n",
      "Multiprocess sampling (4 chains in 4 jobs)\n",
      "NUTS: [mu, sigma, xi]\n"
     ]
    },
    {
     "data": {
      "application/vnd.jupyter.widget-view+json": {
       "model_id": "04b8f9b1606148aca4991c3558cea613",
       "version_major": 2,
       "version_minor": 0
      },
      "text/plain": [
       "Output()"
      ]
     },
     "metadata": {},
     "output_type": "display_data"
    },
    {
     "data": {
      "text/html": [
       "<pre style=\"white-space:pre;overflow-x:auto;line-height:normal;font-family:Menlo,'DejaVu Sans Mono',consolas,'Courier New',monospace\"></pre>\n"
      ],
      "text/plain": []
     },
     "metadata": {},
     "output_type": "display_data"
    },
    {
     "name": "stderr",
     "output_type": "stream",
     "text": [
      "Sampling 4 chains for 300 tune and 1_000 draw iterations (1_200 + 4_000 draws total) took 42 seconds.\n",
      "Sampling: [Rainfall]\n"
     ]
    },
    {
     "data": {
      "application/vnd.jupyter.widget-view+json": {
       "model_id": "9dfb6a0578794f888fcd5cff4280a274",
       "version_major": 2,
       "version_minor": 0
      },
      "text/plain": [
       "Output()"
      ]
     },
     "metadata": {},
     "output_type": "display_data"
    },
    {
     "data": {
      "text/html": [
       "<pre style=\"white-space:pre;overflow-x:auto;line-height:normal;font-family:Menlo,'DejaVu Sans Mono',consolas,'Courier New',monospace\"></pre>\n"
      ],
      "text/plain": []
     },
     "metadata": {},
     "output_type": "display_data"
    },
    {
     "name": "stderr",
     "output_type": "stream",
     "text": [
      "Sampling: []\n"
     ]
    },
    {
     "data": {
      "application/vnd.jupyter.widget-view+json": {
       "model_id": "3b58e5439c0341c7b84c5a84bb6414f8",
       "version_major": 2,
       "version_minor": 0
      },
      "text/plain": [
       "Output()"
      ]
     },
     "metadata": {},
     "output_type": "display_data"
    },
    {
     "data": {
      "text/html": [
       "<pre style=\"white-space:pre;overflow-x:auto;line-height:normal;font-family:Menlo,'DejaVu Sans Mono',consolas,'Courier New',monospace\"></pre>\n"
      ],
      "text/plain": []
     },
     "metadata": {},
     "output_type": "display_data"
    },
    {
     "name": "stderr",
     "output_type": "stream",
     "text": [
      "Sampling: [Rainfall, mu, sigma, xi]\n"
     ]
    },
    {
     "name": "stdout",
     "output_type": "stream",
     "text": [
      "Processing Stornoway Airport\n"
     ]
    },
    {
     "name": "stderr",
     "output_type": "stream",
     "text": [
      "Initializing NUTS using jitter+adapt_diag...\n",
      "Multiprocess sampling (4 chains in 4 jobs)\n",
      "NUTS: [mu, sigma, xi]\n"
     ]
    },
    {
     "data": {
      "application/vnd.jupyter.widget-view+json": {
       "model_id": "09657842dd334777b482cd412493bf82",
       "version_major": 2,
       "version_minor": 0
      },
      "text/plain": [
       "Output()"
      ]
     },
     "metadata": {},
     "output_type": "display_data"
    },
    {
     "data": {
      "text/html": [
       "<pre style=\"white-space:pre;overflow-x:auto;line-height:normal;font-family:Menlo,'DejaVu Sans Mono',consolas,'Courier New',monospace\"></pre>\n"
      ],
      "text/plain": []
     },
     "metadata": {},
     "output_type": "display_data"
    },
    {
     "name": "stderr",
     "output_type": "stream",
     "text": [
      "Sampling 4 chains for 300 tune and 1_000 draw iterations (1_200 + 4_000 draws total) took 39 seconds.\n",
      "Sampling: [Rainfall]\n"
     ]
    },
    {
     "data": {
      "application/vnd.jupyter.widget-view+json": {
       "model_id": "4ec90d2aab284d3cadf8198460ca801b",
       "version_major": 2,
       "version_minor": 0
      },
      "text/plain": [
       "Output()"
      ]
     },
     "metadata": {},
     "output_type": "display_data"
    },
    {
     "data": {
      "text/html": [
       "<pre style=\"white-space:pre;overflow-x:auto;line-height:normal;font-family:Menlo,'DejaVu Sans Mono',consolas,'Courier New',monospace\"></pre>\n"
      ],
      "text/plain": []
     },
     "metadata": {},
     "output_type": "display_data"
    },
    {
     "name": "stderr",
     "output_type": "stream",
     "text": [
      "Sampling: []\n"
     ]
    },
    {
     "data": {
      "application/vnd.jupyter.widget-view+json": {
       "model_id": "dabbe21dfe434c178717a509d61c7c8f",
       "version_major": 2,
       "version_minor": 0
      },
      "text/plain": [
       "Output()"
      ]
     },
     "metadata": {},
     "output_type": "display_data"
    },
    {
     "data": {
      "text/html": [
       "<pre style=\"white-space:pre;overflow-x:auto;line-height:normal;font-family:Menlo,'DejaVu Sans Mono',consolas,'Courier New',monospace\"></pre>\n"
      ],
      "text/plain": []
     },
     "metadata": {},
     "output_type": "display_data"
    },
    {
     "name": "stderr",
     "output_type": "stream",
     "text": [
      "Sampling: [Rainfall, mu, sigma, xi]\n"
     ]
    },
    {
     "name": "stdout",
     "output_type": "stream",
     "text": [
      "Processing Sutton Bonington\n"
     ]
    },
    {
     "name": "stderr",
     "output_type": "stream",
     "text": [
      "Initializing NUTS using jitter+adapt_diag...\n",
      "Multiprocess sampling (4 chains in 4 jobs)\n",
      "NUTS: [mu, sigma, xi]\n"
     ]
    },
    {
     "data": {
      "application/vnd.jupyter.widget-view+json": {
       "model_id": "c0dbe17302464269a32fe1354a1b3d13",
       "version_major": 2,
       "version_minor": 0
      },
      "text/plain": [
       "Output()"
      ]
     },
     "metadata": {},
     "output_type": "display_data"
    },
    {
     "data": {
      "text/html": [
       "<pre style=\"white-space:pre;overflow-x:auto;line-height:normal;font-family:Menlo,'DejaVu Sans Mono',consolas,'Courier New',monospace\"></pre>\n"
      ],
      "text/plain": []
     },
     "metadata": {},
     "output_type": "display_data"
    },
    {
     "name": "stderr",
     "output_type": "stream",
     "text": [
      "Sampling 4 chains for 300 tune and 1_000 draw iterations (1_200 + 4_000 draws total) took 44 seconds.\n",
      "Sampling: [Rainfall]\n"
     ]
    },
    {
     "data": {
      "application/vnd.jupyter.widget-view+json": {
       "model_id": "6da281fac0a442b9ba46234f32dd608d",
       "version_major": 2,
       "version_minor": 0
      },
      "text/plain": [
       "Output()"
      ]
     },
     "metadata": {},
     "output_type": "display_data"
    },
    {
     "data": {
      "text/html": [
       "<pre style=\"white-space:pre;overflow-x:auto;line-height:normal;font-family:Menlo,'DejaVu Sans Mono',consolas,'Courier New',monospace\"></pre>\n"
      ],
      "text/plain": []
     },
     "metadata": {},
     "output_type": "display_data"
    },
    {
     "name": "stderr",
     "output_type": "stream",
     "text": [
      "Sampling: []\n"
     ]
    },
    {
     "data": {
      "application/vnd.jupyter.widget-view+json": {
       "model_id": "26e6a26c02e74b2d8be0c27a6c9a65b4",
       "version_major": 2,
       "version_minor": 0
      },
      "text/plain": [
       "Output()"
      ]
     },
     "metadata": {},
     "output_type": "display_data"
    },
    {
     "data": {
      "text/html": [
       "<pre style=\"white-space:pre;overflow-x:auto;line-height:normal;font-family:Menlo,'DejaVu Sans Mono',consolas,'Courier New',monospace\"></pre>\n"
      ],
      "text/plain": []
     },
     "metadata": {},
     "output_type": "display_data"
    },
    {
     "name": "stderr",
     "output_type": "stream",
     "text": [
      "Sampling: [Rainfall, mu, sigma, xi]\n"
     ]
    },
    {
     "name": "stdout",
     "output_type": "stream",
     "text": [
      "Processing Tiree\n"
     ]
    },
    {
     "name": "stderr",
     "output_type": "stream",
     "text": [
      "Initializing NUTS using jitter+adapt_diag...\n",
      "Multiprocess sampling (4 chains in 4 jobs)\n",
      "NUTS: [mu, sigma, xi]\n"
     ]
    },
    {
     "data": {
      "application/vnd.jupyter.widget-view+json": {
       "model_id": "2411107f2bf4450aa7d1c0a67153bdf1",
       "version_major": 2,
       "version_minor": 0
      },
      "text/plain": [
       "Output()"
      ]
     },
     "metadata": {},
     "output_type": "display_data"
    },
    {
     "data": {
      "text/html": [
       "<pre style=\"white-space:pre;overflow-x:auto;line-height:normal;font-family:Menlo,'DejaVu Sans Mono',consolas,'Courier New',monospace\"></pre>\n"
      ],
      "text/plain": []
     },
     "metadata": {},
     "output_type": "display_data"
    },
    {
     "name": "stderr",
     "output_type": "stream",
     "text": [
      "Sampling 4 chains for 300 tune and 1_000 draw iterations (1_200 + 4_000 draws total) took 39 seconds.\n",
      "Sampling: [Rainfall]\n"
     ]
    },
    {
     "data": {
      "application/vnd.jupyter.widget-view+json": {
       "model_id": "15787720622b4e96ad136c75ee7468c1",
       "version_major": 2,
       "version_minor": 0
      },
      "text/plain": [
       "Output()"
      ]
     },
     "metadata": {},
     "output_type": "display_data"
    },
    {
     "data": {
      "text/html": [
       "<pre style=\"white-space:pre;overflow-x:auto;line-height:normal;font-family:Menlo,'DejaVu Sans Mono',consolas,'Courier New',monospace\"></pre>\n"
      ],
      "text/plain": []
     },
     "metadata": {},
     "output_type": "display_data"
    },
    {
     "name": "stderr",
     "output_type": "stream",
     "text": [
      "Sampling: []\n"
     ]
    },
    {
     "data": {
      "application/vnd.jupyter.widget-view+json": {
       "model_id": "f52bd9957d994d6c8909aef1b26f411f",
       "version_major": 2,
       "version_minor": 0
      },
      "text/plain": [
       "Output()"
      ]
     },
     "metadata": {},
     "output_type": "display_data"
    },
    {
     "data": {
      "text/html": [
       "<pre style=\"white-space:pre;overflow-x:auto;line-height:normal;font-family:Menlo,'DejaVu Sans Mono',consolas,'Courier New',monospace\"></pre>\n"
      ],
      "text/plain": []
     },
     "metadata": {},
     "output_type": "display_data"
    },
    {
     "name": "stderr",
     "output_type": "stream",
     "text": [
      "Sampling: [Rainfall, mu, sigma, xi]\n"
     ]
    },
    {
     "name": "stdout",
     "output_type": "stream",
     "text": [
      "Processing Valley\n"
     ]
    },
    {
     "name": "stderr",
     "output_type": "stream",
     "text": [
      "Initializing NUTS using jitter+adapt_diag...\n",
      "Multiprocess sampling (4 chains in 4 jobs)\n",
      "NUTS: [mu, sigma, xi]\n"
     ]
    },
    {
     "data": {
      "application/vnd.jupyter.widget-view+json": {
       "model_id": "2297a037030c43d98bc235551370d9b4",
       "version_major": 2,
       "version_minor": 0
      },
      "text/plain": [
       "Output()"
      ]
     },
     "metadata": {},
     "output_type": "display_data"
    },
    {
     "data": {
      "text/html": [
       "<pre style=\"white-space:pre;overflow-x:auto;line-height:normal;font-family:Menlo,'DejaVu Sans Mono',consolas,'Courier New',monospace\"></pre>\n"
      ],
      "text/plain": []
     },
     "metadata": {},
     "output_type": "display_data"
    },
    {
     "name": "stderr",
     "output_type": "stream",
     "text": [
      "Sampling 4 chains for 300 tune and 1_000 draw iterations (1_200 + 4_000 draws total) took 39 seconds.\n",
      "Sampling: [Rainfall]\n"
     ]
    },
    {
     "data": {
      "application/vnd.jupyter.widget-view+json": {
       "model_id": "60d8a9549ff440f9b0ad340547e85b11",
       "version_major": 2,
       "version_minor": 0
      },
      "text/plain": [
       "Output()"
      ]
     },
     "metadata": {},
     "output_type": "display_data"
    },
    {
     "data": {
      "text/html": [
       "<pre style=\"white-space:pre;overflow-x:auto;line-height:normal;font-family:Menlo,'DejaVu Sans Mono',consolas,'Courier New',monospace\"></pre>\n"
      ],
      "text/plain": []
     },
     "metadata": {},
     "output_type": "display_data"
    },
    {
     "name": "stderr",
     "output_type": "stream",
     "text": [
      "Sampling: []\n"
     ]
    },
    {
     "data": {
      "application/vnd.jupyter.widget-view+json": {
       "model_id": "c6f6e1d3cb4a48679470fa80e2f8e582",
       "version_major": 2,
       "version_minor": 0
      },
      "text/plain": [
       "Output()"
      ]
     },
     "metadata": {},
     "output_type": "display_data"
    },
    {
     "data": {
      "text/html": [
       "<pre style=\"white-space:pre;overflow-x:auto;line-height:normal;font-family:Menlo,'DejaVu Sans Mono',consolas,'Courier New',monospace\"></pre>\n"
      ],
      "text/plain": []
     },
     "metadata": {},
     "output_type": "display_data"
    },
    {
     "name": "stderr",
     "output_type": "stream",
     "text": [
      "Sampling: [Rainfall, mu, sigma, xi]\n"
     ]
    },
    {
     "name": "stdout",
     "output_type": "stream",
     "text": [
      "Processing Waddington\n"
     ]
    },
    {
     "name": "stderr",
     "output_type": "stream",
     "text": [
      "Initializing NUTS using jitter+adapt_diag...\n",
      "Multiprocess sampling (4 chains in 4 jobs)\n",
      "NUTS: [mu, sigma, xi]\n"
     ]
    },
    {
     "data": {
      "application/vnd.jupyter.widget-view+json": {
       "model_id": "52bf3a3121dd431e80b26387f670584b",
       "version_major": 2,
       "version_minor": 0
      },
      "text/plain": [
       "Output()"
      ]
     },
     "metadata": {},
     "output_type": "display_data"
    },
    {
     "data": {
      "text/html": [
       "<pre style=\"white-space:pre;overflow-x:auto;line-height:normal;font-family:Menlo,'DejaVu Sans Mono',consolas,'Courier New',monospace\"></pre>\n"
      ],
      "text/plain": []
     },
     "metadata": {},
     "output_type": "display_data"
    },
    {
     "name": "stderr",
     "output_type": "stream",
     "text": [
      "Sampling 4 chains for 300 tune and 1_000 draw iterations (1_200 + 4_000 draws total) took 40 seconds.\n",
      "Sampling: [Rainfall]\n"
     ]
    },
    {
     "data": {
      "application/vnd.jupyter.widget-view+json": {
       "model_id": "29429a1f23264179a14a07cdb2844385",
       "version_major": 2,
       "version_minor": 0
      },
      "text/plain": [
       "Output()"
      ]
     },
     "metadata": {},
     "output_type": "display_data"
    },
    {
     "data": {
      "text/html": [
       "<pre style=\"white-space:pre;overflow-x:auto;line-height:normal;font-family:Menlo,'DejaVu Sans Mono',consolas,'Courier New',monospace\"></pre>\n"
      ],
      "text/plain": []
     },
     "metadata": {},
     "output_type": "display_data"
    },
    {
     "name": "stderr",
     "output_type": "stream",
     "text": [
      "Sampling: []\n"
     ]
    },
    {
     "data": {
      "application/vnd.jupyter.widget-view+json": {
       "model_id": "919a7aebbaf745708bd504ddfe517dc9",
       "version_major": 2,
       "version_minor": 0
      },
      "text/plain": [
       "Output()"
      ]
     },
     "metadata": {},
     "output_type": "display_data"
    },
    {
     "data": {
      "text/html": [
       "<pre style=\"white-space:pre;overflow-x:auto;line-height:normal;font-family:Menlo,'DejaVu Sans Mono',consolas,'Courier New',monospace\"></pre>\n"
      ],
      "text/plain": []
     },
     "metadata": {},
     "output_type": "display_data"
    },
    {
     "name": "stderr",
     "output_type": "stream",
     "text": [
      "Sampling: [Rainfall, mu, sigma, xi]\n"
     ]
    },
    {
     "name": "stdout",
     "output_type": "stream",
     "text": [
      "Processing Whitby\n"
     ]
    },
    {
     "name": "stderr",
     "output_type": "stream",
     "text": [
      "Initializing NUTS using jitter+adapt_diag...\n",
      "Multiprocess sampling (4 chains in 4 jobs)\n",
      "NUTS: [mu, sigma, xi]\n"
     ]
    },
    {
     "data": {
      "application/vnd.jupyter.widget-view+json": {
       "model_id": "5ccc77d5ba744baa8b49e7b425f5b58d",
       "version_major": 2,
       "version_minor": 0
      },
      "text/plain": [
       "Output()"
      ]
     },
     "metadata": {},
     "output_type": "display_data"
    },
    {
     "data": {
      "text/html": [
       "<pre style=\"white-space:pre;overflow-x:auto;line-height:normal;font-family:Menlo,'DejaVu Sans Mono',consolas,'Courier New',monospace\"></pre>\n"
      ],
      "text/plain": []
     },
     "metadata": {},
     "output_type": "display_data"
    },
    {
     "name": "stderr",
     "output_type": "stream",
     "text": [
      "Sampling 4 chains for 300 tune and 1_000 draw iterations (1_200 + 4_000 draws total) took 37 seconds.\n",
      "Sampling: [Rainfall]\n"
     ]
    },
    {
     "data": {
      "application/vnd.jupyter.widget-view+json": {
       "model_id": "9d8f77a5e2814c04847fb335ad07afe6",
       "version_major": 2,
       "version_minor": 0
      },
      "text/plain": [
       "Output()"
      ]
     },
     "metadata": {},
     "output_type": "display_data"
    },
    {
     "data": {
      "text/html": [
       "<pre style=\"white-space:pre;overflow-x:auto;line-height:normal;font-family:Menlo,'DejaVu Sans Mono',consolas,'Courier New',monospace\"></pre>\n"
      ],
      "text/plain": []
     },
     "metadata": {},
     "output_type": "display_data"
    },
    {
     "name": "stderr",
     "output_type": "stream",
     "text": [
      "Sampling: []\n"
     ]
    },
    {
     "data": {
      "application/vnd.jupyter.widget-view+json": {
       "model_id": "5dcf3d7e06444e08b0476b319aa3cd4c",
       "version_major": 2,
       "version_minor": 0
      },
      "text/plain": [
       "Output()"
      ]
     },
     "metadata": {},
     "output_type": "display_data"
    },
    {
     "data": {
      "text/html": [
       "<pre style=\"white-space:pre;overflow-x:auto;line-height:normal;font-family:Menlo,'DejaVu Sans Mono',consolas,'Courier New',monospace\"></pre>\n"
      ],
      "text/plain": []
     },
     "metadata": {},
     "output_type": "display_data"
    },
    {
     "name": "stderr",
     "output_type": "stream",
     "text": [
      "Sampling: [Rainfall, mu, sigma, xi]\n"
     ]
    },
    {
     "name": "stdout",
     "output_type": "stream",
     "text": [
      "Processing Wick Airport\n"
     ]
    },
    {
     "name": "stderr",
     "output_type": "stream",
     "text": [
      "Initializing NUTS using jitter+adapt_diag...\n",
      "Multiprocess sampling (4 chains in 4 jobs)\n",
      "NUTS: [mu, sigma, xi]\n"
     ]
    },
    {
     "data": {
      "application/vnd.jupyter.widget-view+json": {
       "model_id": "b4dde2b990bb48fb8455da9e1744eb71",
       "version_major": 2,
       "version_minor": 0
      },
      "text/plain": [
       "Output()"
      ]
     },
     "metadata": {},
     "output_type": "display_data"
    },
    {
     "data": {
      "text/html": [
       "<pre style=\"white-space:pre;overflow-x:auto;line-height:normal;font-family:Menlo,'DejaVu Sans Mono',consolas,'Courier New',monospace\"></pre>\n"
      ],
      "text/plain": []
     },
     "metadata": {},
     "output_type": "display_data"
    },
    {
     "name": "stderr",
     "output_type": "stream",
     "text": [
      "Sampling 4 chains for 300 tune and 1_000 draw iterations (1_200 + 4_000 draws total) took 40 seconds.\n",
      "Sampling: [Rainfall]\n"
     ]
    },
    {
     "data": {
      "application/vnd.jupyter.widget-view+json": {
       "model_id": "f61ad1309dbe40da93b9a45b70d70781",
       "version_major": 2,
       "version_minor": 0
      },
      "text/plain": [
       "Output()"
      ]
     },
     "metadata": {},
     "output_type": "display_data"
    },
    {
     "data": {
      "text/html": [
       "<pre style=\"white-space:pre;overflow-x:auto;line-height:normal;font-family:Menlo,'DejaVu Sans Mono',consolas,'Courier New',monospace\"></pre>\n"
      ],
      "text/plain": []
     },
     "metadata": {},
     "output_type": "display_data"
    },
    {
     "name": "stderr",
     "output_type": "stream",
     "text": [
      "Sampling: []\n"
     ]
    },
    {
     "data": {
      "application/vnd.jupyter.widget-view+json": {
       "model_id": "bd663b84098f42d1930e1fd32a230fbd",
       "version_major": 2,
       "version_minor": 0
      },
      "text/plain": [
       "Output()"
      ]
     },
     "metadata": {},
     "output_type": "display_data"
    },
    {
     "data": {
      "text/html": [
       "<pre style=\"white-space:pre;overflow-x:auto;line-height:normal;font-family:Menlo,'DejaVu Sans Mono',consolas,'Courier New',monospace\"></pre>\n"
      ],
      "text/plain": []
     },
     "metadata": {},
     "output_type": "display_data"
    },
    {
     "name": "stderr",
     "output_type": "stream",
     "text": [
      "Sampling: [Rainfall, mu, sigma, xi]\n"
     ]
    },
    {
     "name": "stdout",
     "output_type": "stream",
     "text": [
      "Processing Yeovilton\n"
     ]
    },
    {
     "name": "stderr",
     "output_type": "stream",
     "text": [
      "Initializing NUTS using jitter+adapt_diag...\n",
      "Multiprocess sampling (4 chains in 4 jobs)\n",
      "NUTS: [mu, sigma, xi]\n"
     ]
    },
    {
     "data": {
      "application/vnd.jupyter.widget-view+json": {
       "model_id": "3188a96a83eb40098867ebc0de54394f",
       "version_major": 2,
       "version_minor": 0
      },
      "text/plain": [
       "Output()"
      ]
     },
     "metadata": {},
     "output_type": "display_data"
    },
    {
     "data": {
      "text/html": [
       "<pre style=\"white-space:pre;overflow-x:auto;line-height:normal;font-family:Menlo,'DejaVu Sans Mono',consolas,'Courier New',monospace\"></pre>\n"
      ],
      "text/plain": []
     },
     "metadata": {},
     "output_type": "display_data"
    },
    {
     "name": "stderr",
     "output_type": "stream",
     "text": [
      "Sampling 4 chains for 300 tune and 1_000 draw iterations (1_200 + 4_000 draws total) took 39 seconds.\n",
      "Sampling: [Rainfall]\n"
     ]
    },
    {
     "data": {
      "application/vnd.jupyter.widget-view+json": {
       "model_id": "4aa1a9c7d6a042e589742731919cb015",
       "version_major": 2,
       "version_minor": 0
      },
      "text/plain": [
       "Output()"
      ]
     },
     "metadata": {},
     "output_type": "display_data"
    },
    {
     "data": {
      "text/html": [
       "<pre style=\"white-space:pre;overflow-x:auto;line-height:normal;font-family:Menlo,'DejaVu Sans Mono',consolas,'Courier New',monospace\"></pre>\n"
      ],
      "text/plain": []
     },
     "metadata": {},
     "output_type": "display_data"
    },
    {
     "name": "stderr",
     "output_type": "stream",
     "text": [
      "Sampling: []\n"
     ]
    },
    {
     "data": {
      "application/vnd.jupyter.widget-view+json": {
       "model_id": "6cebd30b42e749e99c303f1327f67d5d",
       "version_major": 2,
       "version_minor": 0
      },
      "text/plain": [
       "Output()"
      ]
     },
     "metadata": {},
     "output_type": "display_data"
    },
    {
     "data": {
      "text/html": [
       "<pre style=\"white-space:pre;overflow-x:auto;line-height:normal;font-family:Menlo,'DejaVu Sans Mono',consolas,'Courier New',monospace\"></pre>\n"
      ],
      "text/plain": []
     },
     "metadata": {},
     "output_type": "display_data"
    }
   ],
   "source": [
    "# Fit the GEV distribution to each dataset and put results in a dict\n",
    "results_dict = {}\n",
    "for each_site, each_df in data_dict.items():\n",
    "    print(f'Processing {each_site}')\n",
    "    results_dict[each_site] = fit_gev(each_df)"
   ]
  },
  {
   "cell_type": "code",
   "execution_count": null,
   "id": "e366db25-82ab-40f0-88ea-6b6c9a8f39d3",
   "metadata": {},
   "outputs": [],
   "source": [
    "def create_metrics_df(results_dict):\n",
    "    \"\"\"This function takes dictionary of the results_df from the GEV model\n",
    "    posterior predictions and extracts the 95% hdi mean, confidences intervals\n",
    "    (2.5, 97.5) and return period (years).\"\"\"\n",
    "\n",
    "    df = pd.DataFrame({'Return Intensity': results_dict['az_summary']['mean'],\n",
    "                       'Lower': results_dict['az_summary']['hdi_2.5%'],\n",
    "                       'Upper': results_dict['az_summary']['hdi_97.5%'],\n",
    "                       'Return Period': results_dict['return periods']}).reset_index(drop=True)\n",
    "    return df\n",
    "\n",
    "\n",
    "def get_return_period_results(df, site_name, return_period_yrs=20):\n",
    "    \"\"\"This function takes a pandas DataFrame containing the predicted return\n",
    "    period, intensity and confidence intervals and returns a single row DataFrame\n",
    "    containing this metric in addtion to adding a column with the site name.\"\"\"\n",
    "\n",
    "    metrics_df = (df.iloc[[(df['Return Period'] - return_period_yrs)\n",
    "        .abs()\n",
    "        .argsort()[0]]]\n",
    "                 )\n",
    "    metrics_df.insert(0, 'Site name', site_name)\n",
    "    return metrics_df"
   ]
  },
  {
   "cell_type": "code",
   "execution_count": null,
   "id": "b587ae32-1da8-4246-8d45-a9cb8e35dcd4",
   "metadata": {},
   "outputs": [],
   "source": [
    "# subset results_dict to mean, 'confidence ints' (HDIs 2.5-97.5) and return period\n",
    "metrics_dict = {}\n",
    "for each_site, each_dict in results_dict.items():\n",
    "    metrics_dict[each_site] = create_metrics_df(each_dict)\n",
    "\n",
    "\n",
    "# extract result for a 20 year return period\n",
    "twenty_year_dict = {}\n",
    "for each_site, each_df in metrics_dict.items():\n",
    "    twenty_year_dict[each_site] = get_return_period_results(each_df, each_site)\n",
    "\n",
    "twenty_yr_df = pd.concat(twenty_year_dict, ignore_index=True)"
   ]
  },
  {
   "cell_type": "code",
   "execution_count": null,
   "id": "550be91d-658c-4877-b383-7900f96c1b2d",
   "metadata": {},
   "outputs": [],
   "source": [
    "# recommended standards for UK crs='OSGB36'/'EPSG:27700' (geographic/projected)\n",
    "# source: https://www.gov.uk/guidance/uk-geospatial-data-standards-coordinate-reference-systems\n",
    "station_coords_gdf = station_coords_gdf.to_crs(crs='EPSG:27700')\n",
    "house_price_gdf = house_price_gdf.to_crs(crs='EPSG:27700')\n",
    "\n",
    "# stations are added to the nearest house price polygons (NB, if exactly equidistant all areas get joined!)\n",
    "unified_gdf = gpd.sjoin_nearest(station_coords_gdf, house_price_gdf)\n",
    "\n",
    "# add stats results for a 20-year return period\n",
    "unified_gdf = unified_gdf.merge(twenty_yr_df, left_on='Station name', right_on='Site name')\n",
    "\n",
    "list_cols_to_keep = ['Station name', 'Lat', 'Lon', 'geometry', 'Region_Name', 'Average_Price',\n",
    "                     'Return Intensity', 'Lower', 'Upper']\n",
    "unified_gdf = unified_gdf.loc[:, list_cols_to_keep]\n",
    "\n",
    "# Remove rows where no house price data exists\n",
    "boolean_mask = unified_gdf.Average_Price.isna()\n",
    "unified_gdf = unified_gdf[~boolean_mask].reset_index(drop=True)\n",
    "\n",
    "# Scale return intensity and bounds to max value of 1\n",
    "risk_df = (unified_gdf[['Return Intensity', 'Lower', 'Upper']]\n",
    "    .div(unified_gdf[['Return Intensity', 'Lower', 'Upper']]\n",
    "        .max()\n",
    "        .max())\n",
    "          )\n",
    "\n",
    "# Incorporate house price into 'risk-factor'\n",
    "risk_df = risk_df[['Return Intensity', 'Lower', 'Upper']].mul(unified_gdf['Average_Price'], axis=0)\n",
    "\n",
    "# Add 'risk-factor' to GeoDataFrame\n",
    "unified_gdf = unified_gdf.merge(risk_df, left_index=True, right_index=True, suffixes=(None, '_scaled_rf'))\n",
    "risk_adj_gdf = gpd.sjoin_nearest(house_price_gdf, unified_gdf, max_distance=5_000)"
   ]
  },
  {
   "cell_type": "code",
   "execution_count": null,
   "id": "8c988c9f-d231-4fc4-942a-d360ed8e8dba",
   "metadata": {},
   "outputs": [],
   "source": [
    "risk_df = risk_df[['Return Intensity', 'Lower', 'Upper']].mul(unified_gdf['Average_Price'], axis=0)"
   ]
  },
  {
   "cell_type": "code",
   "execution_count": null,
   "id": "786d9e75-e1ff-4fa7-8131-9e21b4181da7",
   "metadata": {},
   "outputs": [],
   "source": [
    "# Create a boarder of areas where there's missing data (no house prices for\n",
    "# Northern Ireland)\n",
    "boolean_mask = house_price_gdf['NAME_1'].isin(['England', 'Scotland', 'Wales'])\n",
    "aoi_house_price_gdf = house_price_gdf[boolean_mask]\n",
    "gb_outline_gdf = aoi_house_price_gdf.dissolve()\n",
    "\n",
    "# clip stations to areas present in risk-adjusted gdf\n",
    "stations_clip_gdf = gpd.clip(station_coords_gdf, risk_adj_gdf) "
   ]
  },
  {
   "cell_type": "markdown",
   "id": "f8447f01-6864-464e-b17b-0403ebce583b",
   "metadata": {},
   "source": [
    "# Results"
   ]
  },
  {
   "cell_type": "code",
   "execution_count": null,
   "id": "2c838ad3-2662-40c0-bad2-b4a25191b74b",
   "metadata": {},
   "outputs": [],
   "source": [
    "plotting_kwargs = {'scheme': 'quantiles',\n",
    "                   'legend': True,\n",
    "                   'cmap': 'OrRd',\n",
    "                  'legend_kwds': {'fmt':'{:,.0f}'},\n",
    "                  'lw': 0.3}\n",
    "fig, axes = plt.subplots(ncols=3, figsize=(16,8))\n",
    "risk_adj_gdf.plot(**plotting_kwargs, column='Return Intensity', ax=axes[0], ec='k')\n",
    "risk_adj_gdf.plot(**plotting_kwargs, column='Average_Price_right', ax=axes[1])\n",
    "risk_adj_gdf.plot(**plotting_kwargs, column='Return Intensity_scaled_rf', ax=axes[2])\n",
    "stations_clip_gdf.plot(ax=axes[0], zorder=3, label='Met Station', marker='x', color='k')\n",
    "stations_clip_gdf.plot(ax=axes[1], zorder=3, label='Met Station', marker='x', color='k')\n",
    "stations_clip_gdf.plot(ax=axes[2], zorder=3, label='Met Station', marker='x', color='k')\n",
    "\n",
    "na_label = gb_outline_gdf.plot(hatch='//', fc='none', ec='r', ax=axes[0], zorder=-1, label='N/A')\n",
    "gb_outline_gdf.plot(hatch='//', fc='none', ec='r', ax=axes[1], zorder=-1)\n",
    "gb_outline_gdf.plot(hatch='//', fc='none', ec='r', ax=axes[2], zorder=-1)\n",
    "\n",
    "axes[0].set_title('Intensity of 20-year Rainfall event [mm]');\n",
    "axes[1].set_title('Average house price [£]');\n",
    "axes[2].set_title('Risk-adjusted average house price [£]');\n",
    "for each_ax in axes.flatten():\n",
    "    each_ax.get_xaxis().set_visible(False);\n",
    "    each_ax.get_yaxis().set_visible(False);"
   ]
  },
  {
   "cell_type": "code",
   "execution_count": null,
   "id": "f018e672-0918-4600-a3e7-a653881ca0ae",
   "metadata": {},
   "outputs": [],
   "source": [
    "site_name = 'Aberporth'\n",
    "df = data_dict[site_name]['Rainfall']\n",
    "fontsize=12\n",
    "fig, axes = plt.subplots(ncols=3, figsize=(18, 5))\n",
    "\n",
    "df.plot(kind='line', ax=axes[0])\n",
    "df.plot(kind='hist', ax=axes[1])\n",
    "df.plot(kind='density', ax=axes[2])\n",
    "\n",
    "axes[0].set_title('Time series', fontsize=fontsize);\n",
    "axes[1].set_title('Histogram', fontsize=fontsize);\n",
    "axes[2].set_title('PDF plot', fontsize=fontsize);\n",
    "axes[0].set_xlabel('Year', fontsize=fontsize);\n",
    "axes[1].set_xlabel('Rainfall [mm]', fontsize=fontsize);\n",
    "axes[2].set_xlabel('Rainfall [mm]', fontsize=fontsize);\n",
    "fig.suptitle(site_name, fontsize=fontsize*1.3);"
   ]
  },
  {
   "cell_type": "code",
   "execution_count": null,
   "id": "c3751941-90e2-4ea3-b748-805dfa9dc17d",
   "metadata": {},
   "outputs": [],
   "source": []
  }
 ],
 "metadata": {
  "kernelspec": {
   "display_name": "Python 3 (ipykernel)",
   "language": "python",
   "name": "python3"
  },
  "language_info": {
   "codemirror_mode": {
    "name": "ipython",
    "version": 3
   },
   "file_extension": ".py",
   "mimetype": "text/x-python",
   "name": "python",
   "nbconvert_exporter": "python",
   "pygments_lexer": "ipython3",
   "version": "3.13.3"
  }
 },
 "nbformat": 4,
 "nbformat_minor": 5
}
